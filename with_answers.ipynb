{
 "cells": [
  {
   "cell_type": "code",
   "execution_count": null,
   "metadata": {},
   "outputs": [],
   "source": []
  },
  {
   "cell_type": "markdown",
   "metadata": {},
   "source": [
    "# with_answers file"
   ]
  },
  {
   "cell_type": "markdown",
   "metadata": {},
   "source": [
    "*Here you will find the excercises and the answers in the exact same format as in the no_answers.ipynb file*"
   ]
  },
  {
   "cell_type": "markdown",
   "metadata": {},
   "source": [
    "## Lists"
   ]
  },
  {
   "cell_type": "markdown",
   "metadata": {},
   "source": [
    "#### Unpack a list"
   ]
  },
  {
   "cell_type": "markdown",
   "metadata": {},
   "source": [
    "*Unpack the following list into the provided fstring*"
   ]
  },
  {
   "cell_type": "code",
   "execution_count": 6,
   "metadata": {},
   "outputs": [],
   "source": [
    "sonority = ['vowels','approximants','nasals','fricatives','affricates','stops']"
   ]
  },
  {
   "cell_type": "code",
   "execution_count": 14,
   "metadata": {},
   "outputs": [
    {
     "ename": "SyntaxError",
     "evalue": "invalid syntax (<ipython-input-14-a0b774c35438>, line 2)",
     "output_type": "error",
     "traceback": [
      "\u001b[0;36m  File \u001b[0;32m\"<ipython-input-14-a0b774c35438>\"\u001b[0;36m, line \u001b[0;32m2\u001b[0m\n\u001b[0;31m    string = \"a sonority hierarchy: {}, {}, {}, {}, {}, {}\".format(*sonority))\u001b[0m\n\u001b[0m                                                                             ^\u001b[0m\n\u001b[0;31mSyntaxError\u001b[0m\u001b[0;31m:\u001b[0m invalid syntax\n"
     ]
    }
   ],
   "source": [
    "# My answer\n",
    "string = \"a sonority hierarchy: {}, {}, {}, {}, {}, {}\".format(*sonority))"
   ]
  },
  {
   "cell_type": "markdown",
   "metadata": {},
   "source": [
    "## Dictionaries"
   ]
  },
  {
   "cell_type": "markdown",
   "metadata": {},
   "source": [
    "### Creating dictionaries from lists"
   ]
  },
  {
   "cell_type": "markdown",
   "metadata": {},
   "source": [
    "#### Create a dictionary from two lists"
   ]
  },
  {
   "cell_type": "markdown",
   "metadata": {},
   "source": [
    "*Using two lists (below), combine them into two dictionaries using different methods (i.e. dictionary comprehensions, etc).*"
   ]
  },
  {
   "cell_type": "code",
   "execution_count": 1,
   "metadata": {},
   "outputs": [],
   "source": [
    "some_mesoamerican_langs = ['Chichimec', 'Cuitlatec', 'Huastecan', 'Huave', 'Huichol', 'Lenca', 'Mayan', 'Mazatec', 'Mixtec', 'Otomi', 'Purepecha', 'Quiche', 'Totonacan', 'Xinca', 'Zapotec']\n",
    "\n",
    "# Create a list 'language_keys' with the exact number of elements in 'some_mesoamerican_langs'"
   ]
  },
  {
   "cell_type": "code",
   "execution_count": 4,
   "metadata": {},
   "outputs": [
    {
     "name": "stdout",
     "output_type": "stream",
     "text": [
      "{1: 'Chichimec', 2: 'Cuitlatec', 3: 'Huastecan', 4: 'Huave', 5: 'Huichol', 6: 'Lenca', 7: 'Mayan', 8: 'Mazatec', 9: 'Mixtec', 10: 'Otomi', 11: 'Purepecha', 12: 'Quiche', 13: 'Totonacan', 14: 'Xinca'}\n",
      "<class 'dict'>\n",
      "{1: 'Chichimec', 2: 'Cuitlatec', 3: 'Huastecan', 4: 'Huave', 5: 'Huichol', 6: 'Lenca', 7: 'Mayan', 8: 'Mazatec', 9: 'Mixtec', 10: 'Otomi', 11: 'Purepecha', 12: 'Quiche', 13: 'Totonacan', 14: 'Xinca'}\n"
     ]
    }
   ],
   "source": [
    "# My answer\n",
    "language_keys = list(range(1,len(some_mesoamerican_langs)))\n",
    "\n",
    "mesoamerican_langs_dictionary_a = dict(zip(language_keys, some_mesoamerican_langs))\n",
    "print(mesoamerican_langs_dictionary_a)\n",
    "\n",
    "mesoamerican_langs_dictionary_b = {language_keys[i]: some_mesoamerican_langs[i] for i in range(len(language_keys))}\n",
    "print(mesoamerican_langs_dictionary_b)"
   ]
  },
  {
   "cell_type": "markdown",
   "metadata": {},
   "source": [
    "#### Conditional dictionary merging"
   ]
  },
  {
   "cell_type": "markdown",
   "metadata": {},
   "source": [
    "*Now use the lists below to create a dictionary that only contains the language isolates contained in the list 'find_isolates'. Use conditional merging in a dictionary comprehension. For the language keys you can call next() on the counter generator provided below.*"
   ]
  },
  {
   "cell_type": "code",
   "execution_count": 26,
   "metadata": {},
   "outputs": [],
   "source": [
    "find_isolates = ['Huastecan', 'Huichol', 'Lenca', 'Mayan', 'Mazatec', 'Mixtec', 'Otomi', 'Totonacan', 'Xinca']\n",
    "\n",
    "language_isolates = ['Cuitlatec', 'Huave', 'Lenca', 'Purepecha', 'Xinca', ]\n",
    "\n",
    "# Counter generator\n",
    "counter = (i for i in range(1,len(language_isolates)))"
   ]
  },
  {
   "cell_type": "code",
   "execution_count": 27,
   "metadata": {},
   "outputs": [
    {
     "data": {
      "text/plain": [
       "{1: 'Lenca', 2: 'Xinca'}"
      ]
     },
     "execution_count": 27,
     "metadata": {},
     "output_type": "execute_result"
    }
   ],
   "source": [
    "# My answer\n",
    "isolates_in_list = {next(counter):isolate for isolate in find_isolates if isolate in language_isolates}\n",
    "isolates_in_list"
   ]
  },
  {
   "cell_type": "markdown",
   "metadata": {},
   "source": [
    "### Unpacking dictionaries"
   ]
  },
  {
   "cell_type": "markdown",
   "metadata": {},
   "source": [
    "#### Unpacking dictionary values"
   ]
  },
  {
   "cell_type": "markdown",
   "metadata": {},
   "source": [
    "*Unpack the following dictionary into the given string*"
   ]
  },
  {
   "cell_type": "code",
   "execution_count": 32,
   "metadata": {},
   "outputs": [],
   "source": [
    "dictionary = {0:\"I\", 1:\"talk\", 2:\"a\", 3:\"conference\"}\n",
    "# your_news = \"{} gave a {} at {} {}\"\n",
    "# The result should be:\n",
    "# >>> I gave a talk at a conference"
   ]
  },
  {
   "cell_type": "code",
   "execution_count": 33,
   "metadata": {},
   "outputs": [
    {
     "name": "stdout",
     "output_type": "stream",
     "text": [
      "I gave a talk at a conference\n"
     ]
    }
   ],
   "source": [
    "your_news = \"{} gave a {} at {} {}\".format(*dictionary.values())\n",
    "print(your_news)"
   ]
  },
  {
   "cell_type": "markdown",
   "metadata": {},
   "source": [
    "#### Unpacking dictionary keys"
   ]
  },
  {
   "cell_type": "markdown",
   "metadata": {},
   "source": [
    "*Unpack the following dictionary keys into the given string*"
   ]
  },
  {
   "cell_type": "code",
   "execution_count": 42,
   "metadata": {},
   "outputs": [],
   "source": [
    "dictionary = {\"<Subject>\":\"I\", \"<Object>\":\"talk\", \"<Determiner>\":\"a\", \"<Complement>\":\"conference\"}\n",
    "# your_news = \"{} gave a {} at {} {}\"\n",
    "# The result should be:\n",
    "# >>> I gave a talk at a conference"
   ]
  },
  {
   "cell_type": "code",
   "execution_count": 43,
   "metadata": {},
   "outputs": [
    {
     "data": {
      "text/plain": [
       "'<Subject> gave a <Object> at <Determiner> <Complement>'"
      ]
     },
     "execution_count": 43,
     "metadata": {},
     "output_type": "execute_result"
    }
   ],
   "source": [
    "your_news = \"{} gave a {} at {} {}\".format(*dictionary.keys())\n",
    "your_news"
   ]
  },
  {
   "cell_type": "markdown",
   "metadata": {},
   "source": [
    "## Iteration"
   ]
  },
  {
   "cell_type": "markdown",
   "metadata": {},
   "source": [
    "#### Simple iteration with class"
   ]
  },
  {
   "cell_type": "markdown",
   "metadata": {},
   "source": [
    "Write a class that:\n",
    "- Does not take any input but has a list inside \\_\\_init\\_\\_\n",
    "- Divides the list of numbers into 3 and puts them in a new list\n",
    "- Prints the quotients as an integer in readable form\n",
    "- Outputs that list\n",
    "\n",
    "Use this list inside your class inside \\_\\_init\\_\\_:\n",
    "\n",
    "```numbers_divisible_by_three = [3, 6, 9, 12, 15]```"
   ]
  },
  {
   "cell_type": "code",
   "execution_count": 2,
   "metadata": {},
   "outputs": [],
   "source": [
    "# My answer\n",
    "class three_division:\n",
    "    def __init__(self):\n",
    "\n",
    "        self.numbers_divisible_by_three = [3, 6, 9, 12, 15]\n",
    "\n",
    "    def divide_self_list(self):\n",
    "        divided_list = []\n",
    "        for item in self.numbers_divisible_by_three:\n",
    "            if item % 3 == 0:\n",
    "                divided_list.append(item)\n",
    "                print(f\"Your divisible number is {int(item)}\")\n",
    "        return divided_list"
   ]
  },
  {
   "cell_type": "code",
   "execution_count": 3,
   "metadata": {},
   "outputs": [
    {
     "name": "stdout",
     "output_type": "stream",
     "text": [
      "Your divisible number is 3\n",
      "Your divisible number is 6\n",
      "Your divisible number is 9\n",
      "Your divisible number is 12\n",
      "Your divisible number is 15\n"
     ]
    }
   ],
   "source": [
    "# Test\n",
    "divisible_numbers = three_division().divide_self_list()\n",
    "assert len(divisible_numbers) == 5"
   ]
  },
  {
   "cell_type": "markdown",
   "metadata": {},
   "source": [
    "#### Iteration with range"
   ]
  },
  {
   "cell_type": "markdown",
   "metadata": {},
   "source": [
    "*Augment your previous class with the following:*\n",
    "- Create a number list containing only the numbers from 5 to 1,000\n",
    "that are divisible by 3 using ```range(start, end, step)```\n",
    "- The number list will have to be inverted this time ```reversed()```\n",
    "- Divides numbers into 3\n",
    "- Outputs the quotient as an integer in readable form\n",
    "\n",
    "*Notice that range starts from 0 when no start is provided.*\n",
    "\n",
    "*Also notice that range stops BEFORE the end number.*"
   ]
  },
  {
   "cell_type": "code",
   "execution_count": 1,
   "metadata": {},
   "outputs": [],
   "source": [
    "# My answer\n",
    "class three_division:\n",
    "    def __init__(self):\n",
    "        \n",
    "        # This is our old list just hanging out here for no reason\n",
    "        self.numbers_divisible_by_three = [3, 6, 9, 12, 15]\n",
    "\n",
    "    def divide_self_list(self):\n",
    "        divided_list = []\n",
    "        for item in self.numbers_divisible_by_three:\n",
    "            if item % 3 == 0:\n",
    "                divided_list.append(item)\n",
    "                print(f\"Your divisible number is {int(item)}\")\n",
    "        return divided_list\n",
    "\n",
    "    def divide_create_list(self, start=6, stop=1001, step=3):\n",
    "        \"\"\"Creates own list and finds divisible numbers\n",
    "        \"\"\"\n",
    "        divided_list = []\n",
    "        for item in reversed(range(start, stop, step)):  # Reverse list\n",
    "        # for item in range(3, 101, 3):\n",
    "            if item % 3 == 0:\n",
    "#                 print(f\"Your divisible number is {int(item)}\")\n",
    "                divided_list.append(item)\n",
    "        return divided_list"
   ]
  },
  {
   "cell_type": "code",
   "execution_count": 2,
   "metadata": {},
   "outputs": [],
   "source": [
    "# Test\n",
    "divisible_numbers = three_division().divide_create_list()\n",
    "assert len(divisible_numbers) == 332"
   ]
  },
  {
   "cell_type": "markdown",
   "metadata": {},
   "source": [
    "#### Iteration with numpy for floats"
   ]
  },
  {
   "cell_type": "markdown",
   "metadata": {},
   "source": [
    "*```range()``` will only work for integer numbers*\n",
    "*Augment your previous class to use numpy as instructed:*\n",
    "- Division of numbers into 3.3\n",
    "- Outputs the quotient as a rounded float to 2 digits ```round()```\n",
    "in readable form.\n",
    "- Create the number list yourself with numbers from 0 to 1,000\n",
    "that are divisible by 3.3. numpy + range = ```np.arange()```, but\n",
    "may contain floating point errors.\n",
    "\n",
    "*Notice that all floats are rounded unless you use sth like\n",
    "the decimal library.*\n",
    "\n",
    "Alternatively, you could also use ```np.linspace()```. It does essentially\n",
    "the same thing but uses different parameters. With ```np.linspace()```,\n",
    "you specify start and end (both inclusive) as well as the length of\n",
    "the array (instead of step).\""
   ]
  },
  {
   "cell_type": "code",
   "execution_count": 3,
   "metadata": {},
   "outputs": [],
   "source": [
    "# My answer\n",
    "class three_division:\n",
    "    def __init__(self):\n",
    "        self._numbers_divisible_by_three = [3, 6, 9, 12, 15]\n",
    "        \n",
    "    def divide_self_list(self):\n",
    "        divided_list = []\n",
    "        for item in self._numbers_divisible_by_three:\n",
    "            if item % 3 == 0:\n",
    "                print(f\"Your divisible number is {int(item)}\")\n",
    "                divided_list.append(item)\n",
    "        return divided_list\n",
    "    \n",
    "    def divide_create_int_list(self, start=6, stop=1001, step=3):\n",
    "        divided_list = []\n",
    "        for item in range(start, stop, step):\n",
    "            if item % 3 == 0:\n",
    "                print(f\"Your divisible number is {int(item)}\")\n",
    "                divided_list.append(item)\n",
    "        return divided_list\n",
    "    \n",
    "    def divide_create_float_list(self, start=3.3, stop=1000, step=3.3):\n",
    "        import numpy as np\n",
    "        divided_list = []\n",
    "        for item in np.arange(start, stop, step):\n",
    "            if item % 3.3 == 0:\n",
    "                print(f\"Your divisible float is {item}\")\n",
    "                divided_list.append(item)\n",
    "        return divided_list\n",
    "        \n",
    "    def divide_create_float_linspace(self, start=3.3, stop=1000, samples=100000):\n",
    "        import numpy as np\n",
    "        divided_list = []\n",
    "        for item in reversed(np.linspace(start, stop, samples)):\n",
    "            item = round(item, 2)\n",
    "            if item % 3.3 == 0:\n",
    "#                 print(f\"Your divisible float is {item}\")\n",
    "                divided_list.append(item)\n",
    "        return divided_list"
   ]
  },
  {
   "cell_type": "code",
   "execution_count": 4,
   "metadata": {},
   "outputs": [],
   "source": [
    "# Tests\n",
    "# divisible_numbers = three_division().divide_create_float_list()\n",
    "# assert len(divisible_numbers) == 9  # This is caused by the floating point error\n",
    "\n",
    "# This method works well on my machine but doesn't here... Might fix it later.\n",
    "divisible_numbers = three_division().divide_create_float_linspace()\n",
    "# assert len(divisible_numbers) == 9  # This number may differ depending on settings cuz #round()"
   ]
  },
  {
   "cell_type": "markdown",
   "metadata": {},
   "source": [
    "#### Class decorators: properties and setters"
   ]
  },
  {
   "cell_type": "markdown",
   "metadata": {},
   "source": [
    "*Now add a `@property` and a `@x.setter` so that your class is able to return the default list given avobe and to take in a list passed down by the user*"
   ]
  },
  {
   "cell_type": "code",
   "execution_count": 6,
   "metadata": {},
   "outputs": [],
   "source": [
    "# My answer\n",
    "class three_division:\n",
    "    def __init__(self):\n",
    "\n",
    "        self._numbers_divisible_by_three = [3, 6, 9, 12, 15]\n",
    "\n",
    "    # Return set list\n",
    "    @property\n",
    "    def div_list(self):\n",
    "        return self._numbers_divisible_by_three\n",
    "\n",
    "    # Set new list\n",
    "    @div_list.setter\n",
    "    def div_list(self, values:list):\n",
    "        self._numbers_divisible_by_three = values\n",
    "\n",
    "    def divide_self_list(self):\n",
    "        divided_list = []\n",
    "        for item in self._numbers_divisible_by_three:\n",
    "            if item % 3 == 0:\n",
    "                print(f\"Your divisible number is {int(item)}\")\n",
    "                divided_list.append(item)\n",
    "        return divided_list\n",
    "    \n",
    "    def divide_create_int_list(self, start=6, stop=1001, step=3):\n",
    "        divided_list = []\n",
    "        for item in range(start, stop, step):\n",
    "            if item % 3 == 0:\n",
    "                print(f\"Your divisible number is {int(item)}\")\n",
    "                divided_list.append(item)\n",
    "        return divided_list\n",
    "    \n",
    "    def divide_create_float_list(self, start=3.3, stop=1000, step=3.3):\n",
    "        import numpy as np\n",
    "        divided_list = []\n",
    "        for item in np.arange(start, stop, step):\n",
    "            if item % 3.3 == 0:\n",
    "                print(f\"Your divisible float is {item}\")\n",
    "                divided_list.append(item)\n",
    "        return divided_list\n",
    "        \n",
    "    def divide_create_float_linspace(self, start=3.3, stop=1000, samples=100000):\n",
    "        import numpy as np\n",
    "        divided_list = []\n",
    "        for item in reversed(np.linspace(start, stop, samples)):\n",
    "            item = round(item, 2)\n",
    "            if item % 3.3 == 0:\n",
    "                print(f\"Your divisible float is {item}\")\n",
    "                divided_list.append(item)\n",
    "        return divided_list"
   ]
  },
  {
   "cell_type": "code",
   "execution_count": 9,
   "metadata": {},
   "outputs": [
    {
     "name": "stdout",
     "output_type": "stream",
     "text": [
      "[3, 6, 9, 12, 15]\n",
      "[1, 2, 3, 16]\n"
     ]
    }
   ],
   "source": [
    "# default list\n",
    "print(three_division().div_list)\n",
    "# add custom list\n",
    "x = three_division()\n",
    "x.div_list = [1,2,3,16]\n",
    "print(x.div_list)"
   ]
  },
  {
   "cell_type": "markdown",
   "metadata": {},
   "source": [
    "### Iteration with enumerate"
   ]
  },
  {
   "cell_type": "markdown",
   "metadata": {},
   "source": [
    "#### Fizz Buzz"
   ]
  },
  {
   "cell_type": "markdown",
   "metadata": {},
   "source": [
    "*Write a function that:*\n",
    "- Replaces all integers divided by 5 with fizz\n",
    "- Replaces all integers divisible by 3 with buzz\n",
    "\n",
    "*be careful with: the `and` keyword*\n",
    "*be careful with: return values in functions*\n",
    "Use the following list and replace all values in it:\n",
    "```numbers = list(range(1,51))````"
   ]
  },
  {
   "cell_type": "code",
   "execution_count": 1,
   "metadata": {},
   "outputs": [],
   "source": [
    "numbers = list(range(1,51))"
   ]
  },
  {
   "cell_type": "code",
   "execution_count": 2,
   "metadata": {},
   "outputs": [
    {
     "name": "stdout",
     "output_type": "stream",
     "text": [
      "[1, 2, 'buzz', 4, 'fizz', 'buzz', 7, 8, 'buzz', 'fizz', 11, 'buzz', 13, 14, 'fizzbuzz', 16, 17, 'buzz', 19, 'fizz', 'buzz', 22, 23, 'buzz', 'fizz', 26, 'buzz', 28, 29, 'fizzbuzz', 31, 32, 'buzz', 34, 'fizz', 'buzz', 37, 38, 'buzz', 'fizz', 41, 'buzz', 43, 44, 'fizzbuzz', 46, 47, 'buzz', 49, 'fizz']\n"
     ]
    }
   ],
   "source": [
    "# My answer\n",
    "def fizzbuzz(number:int):\n",
    "    if number % 5 == 0 and number % 3 == 0:\n",
    "        return 'fizzbuzz'\n",
    "    elif number % 5 ==0:\n",
    "        return 'fizz'\n",
    "    elif number % 3 ==0:\n",
    "        return 'buzz'\n",
    "    else:\n",
    "        return number\n",
    "\n",
    "for index, item in enumerate(numbers):\n",
    "    numbers[index] = fizzbuzz(item)\n",
    "print(numbers)"
   ]
  },
  {
   "cell_type": "markdown",
   "metadata": {},
   "source": [
    "#### Maps and filters"
   ]
  },
  {
   "cell_type": "markdown",
   "metadata": {},
   "source": [
    "*You are given a function and an input. Map the output to a list.*"
   ]
  },
  {
   "cell_type": "code",
   "execution_count": 3,
   "metadata": {},
   "outputs": [],
   "source": [
    "in_sound = ['AƩ','AZ','AR','AT','AƷ','AP','AS','AD','AF','AG','AH','AJ','AK']\n",
    "\n",
    "\n",
    "def lowercase_word(word):\n",
    "    return word.lower()"
   ]
  },
  {
   "cell_type": "code",
   "execution_count": 4,
   "metadata": {},
   "outputs": [
    {
     "name": "stdout",
     "output_type": "stream",
     "text": [
      "You mapping is:\n",
      " ['aʃ', 'az', 'ar', 'at', 'aʒ', 'ap', 'as', 'ad', 'af', 'ag', 'ah', 'aj', 'ak']\n",
      "You mapping with list comprehension is:\n",
      " ['aʃ', 'az', 'ar', 'at', 'aʒ', 'ap', 'as', 'ad', 'af', 'ag', 'ah', 'aj', 'ak']\n"
     ]
    }
   ],
   "source": [
    "out_sound = list(map(lowercase_word, in_sound))\n",
    "out_sound_listcomp = [lowercase_word(sound) for sound in in_sound]\n",
    "print(f\"You mapping is:\\n {out_sound}\")\n",
    "print(f\"You mapping with list comprehension is:\\n {out_sound_listcomp}\")"
   ]
  },
  {
   "cell_type": "markdown",
   "metadata": {},
   "source": [
    "*You are given a function and an input. Filter the output to a list.*"
   ]
  },
  {
   "cell_type": "code",
   "execution_count": 5,
   "metadata": {},
   "outputs": [],
   "source": [
    "in_sound = ['aʃ','az','ar','at','aʒ','ap','as','ad','af','ag','ah','aj','ak']\n",
    "\n",
    "\n",
    "def is_ending_minus_sibilant(string):\n",
    "    if string.endswith('s') or string.endswith('ʃ') or string.endswith('z') \\\n",
    "        or string.endswith('ʒ'):\n",
    "        return False\n",
    "    return True"
   ]
  },
  {
   "cell_type": "code",
   "execution_count": 6,
   "metadata": {},
   "outputs": [
    {
     "name": "stdout",
     "output_type": "stream",
     "text": [
      "You filtering is:\n",
      " ['ar', 'at', 'ap', 'ad', 'af', 'ag', 'ah', 'aj', 'ak']\n",
      "You filtering with list comprehension is:\n",
      " ['ar', 'at', 'ap', 'ad', 'af', 'ag', 'ah', 'aj', 'ak']\n"
     ]
    }
   ],
   "source": [
    "not_sibilant_sounds = list(filter(is_ending_minus_sibilant, in_sound))\n",
    "not_sibilant_sounds_listcomp = [item for item in in_sound if is_ending_minus_sibilant(item)]\n",
    "\n",
    "print(f\"You filtering is:\\n {not_sibilant_sounds}\")\n",
    "print(f\"You filtering with list comprehension is:\\n {not_sibilant_sounds_listcomp}\")\n",
    "\n",
    "# print(f\"You mapping is:\\n {not_sibilant_sounds})\n",
    "# print(f\"You mapping is:\\n {not_sibilant_sounds})\n",
    "# print(f\"You mapping with list comprehension is:\\n {not_sibilant_sounds}\")\n",
    "      "
   ]
  },
  {
   "cell_type": "code",
   "execution_count": null,
   "metadata": {},
   "outputs": [],
   "source": []
  },
  {
   "cell_type": "code",
   "execution_count": null,
   "metadata": {},
   "outputs": [],
   "source": []
  },
  {
   "cell_type": "code",
   "execution_count": null,
   "metadata": {},
   "outputs": [],
   "source": []
  },
  {
   "cell_type": "code",
   "execution_count": null,
   "metadata": {},
   "outputs": [],
   "source": []
  },
  {
   "cell_type": "code",
   "execution_count": null,
   "metadata": {},
   "outputs": [],
   "source": []
  },
  {
   "cell_type": "code",
   "execution_count": null,
   "metadata": {},
   "outputs": [],
   "source": []
  },
  {
   "cell_type": "code",
   "execution_count": null,
   "metadata": {},
   "outputs": [],
   "source": []
  },
  {
   "cell_type": "code",
   "execution_count": null,
   "metadata": {},
   "outputs": [],
   "source": []
  },
  {
   "cell_type": "code",
   "execution_count": null,
   "metadata": {},
   "outputs": [],
   "source": []
  },
  {
   "cell_type": "code",
   "execution_count": null,
   "metadata": {},
   "outputs": [],
   "source": []
  },
  {
   "cell_type": "code",
   "execution_count": null,
   "metadata": {},
   "outputs": [],
   "source": []
  },
  {
   "cell_type": "code",
   "execution_count": null,
   "metadata": {},
   "outputs": [],
   "source": []
  },
  {
   "cell_type": "code",
   "execution_count": null,
   "metadata": {},
   "outputs": [],
   "source": []
  },
  {
   "cell_type": "code",
   "execution_count": null,
   "metadata": {},
   "outputs": [],
   "source": []
  },
  {
   "cell_type": "code",
   "execution_count": null,
   "metadata": {},
   "outputs": [],
   "source": []
  },
  {
   "cell_type": "code",
   "execution_count": null,
   "metadata": {},
   "outputs": [],
   "source": []
  },
  {
   "cell_type": "markdown",
   "metadata": {},
   "source": [
    "## Fun with recursion"
   ]
  },
  {
   "cell_type": "markdown",
   "metadata": {},
   "source": [
    "#### Recursion and primes, naïve approach"
   ]
  },
  {
   "cell_type": "markdown",
   "metadata": {},
   "source": [
    "*Write a recursive function that tests for prime numbers by checking all divisors. A non-recursive example is shown below:*"
   ]
  },
  {
   "cell_type": "code",
   "execution_count": 9,
   "metadata": {},
   "outputs": [
    {
     "data": {
      "text/plain": [
       "True"
      ]
     },
     "execution_count": 9,
     "metadata": {},
     "output_type": "execute_result"
    }
   ],
   "source": [
    "# Non-recursive example:\n",
    "def is_number_prime(number): \n",
    "    if number < 2: \n",
    "        return False\n",
    "    for divisor in range(2, number): \n",
    "        if number % divisor == 0: \n",
    "            return False\n",
    "    return True\n",
    "is_number_prime(2)"
   ]
  },
  {
   "cell_type": "code",
   "execution_count": 2,
   "metadata": {},
   "outputs": [
    {
     "data": {
      "text/plain": [
       "True"
      ]
     },
     "execution_count": 2,
     "metadata": {},
     "output_type": "execute_result"
    }
   ],
   "source": [
    "# My answer\n",
    "def is_number_prime(number, divisor=None):\n",
    "    if number < 2:\n",
    "        return False\n",
    "    if  not divisor:\n",
    "      divisor = number -1\n",
    "    if divisor == 1:\n",
    "        return True\n",
    "    if number % divisor == 0:\n",
    "        return False\n",
    "    else:\n",
    "      divisor = divisor -1\n",
    "      return is_number_prime(number,divisor)\n",
    "is_number_prime(2)"
   ]
  },
  {
   "cell_type": "code",
   "execution_count": 3,
   "metadata": {},
   "outputs": [],
   "source": [
    "# Tests\n",
    "assert is_number_prime(2) == True\n",
    "assert is_number_prime(4) == False\n",
    "assert is_number_prime(7) == True\n",
    "assert is_number_prime(13) == True\n",
    "assert is_number_prime(29) == True\n",
    "assert is_number_prime(53) == True\n",
    "assert is_number_prime(54) == False\n",
    "# There are exactly 168 prime numbers between 0 and 1,000. Test:\n",
    "assert sum([1 for i in range(1,1000) if is_number_prime(i)]) == 168"
   ]
  },
  {
   "cell_type": "code",
   "execution_count": 4,
   "metadata": {},
   "outputs": [
    {
     "name": "stdout",
     "output_type": "stream",
     "text": [
      "Your function took:  0.08317685127258301 /s\n"
     ]
    }
   ],
   "source": [
    "# Driver function \n",
    "import time\n",
    "t0 = time.time()\n",
    "for num in range(1,1000): \n",
    "    is_number_prime(num) \n",
    "t1 = time.time() \n",
    "print(\"Your function took: \", t1 - t0,\"/s\")"
   ]
  },
  {
   "cell_type": "code",
   "execution_count": 14,
   "metadata": {},
   "outputs": [],
   "source": [
    "# Inspect primes\n",
    "primes = []\n",
    "for num in range(1,1000): \n",
    "    x = is_number_prime(num) \n",
    "    primes.append((num,x))\n",
    "# print(\"Pass from 1-1,000:\\n\", primes) "
   ]
  },
  {
   "cell_type": "markdown",
   "metadata": {},
   "source": [
    "#### Recursion and primes, discard pair values"
   ]
  },
  {
   "cell_type": "markdown",
   "metadata": {},
   "source": [
    "*Write a recursive function that tests for prime numbers by discarding all pairs first*\n"
   ]
  },
  {
   "cell_type": "code",
   "execution_count": 15,
   "metadata": {},
   "outputs": [
    {
     "data": {
      "text/plain": [
       "True"
      ]
     },
     "execution_count": 15,
     "metadata": {},
     "output_type": "execute_result"
    }
   ],
   "source": [
    "# My answer\n",
    "def is_number_prime(number, divisor=None):\n",
    "    if not divisor:\n",
    "        divisor = number -1\n",
    "    if divisor == 1:  # Get 2 right off the bat\n",
    "        return True\n",
    "\n",
    "    if number < 2 or number % 2 == 0:\n",
    "        return False\n",
    "\n",
    "    if number % divisor == 0:\n",
    "        return False\n",
    "    else:\n",
    "        divisor = divisor -1\n",
    "        return is_number_prime(number,divisor)\n",
    "is_number_prime(2)"
   ]
  },
  {
   "cell_type": "code",
   "execution_count": 16,
   "metadata": {},
   "outputs": [],
   "source": [
    "# Tests\n",
    "assert is_number_prime(2) == True\n",
    "assert is_number_prime(4) == False\n",
    "assert is_number_prime(7) == True\n",
    "assert is_number_prime(13) == True\n",
    "assert is_number_prime(29) == True\n",
    "assert is_number_prime(53) == True\n",
    "assert is_number_prime(54) == False\n",
    "# There are exactly 168 prime numbers between 0 and 1,000. Test:\n",
    "assert sum([1 for i in range(1,1000) if is_number_prime(i)]) == 168"
   ]
  },
  {
   "cell_type": "code",
   "execution_count": 17,
   "metadata": {},
   "outputs": [
    {
     "name": "stdout",
     "output_type": "stream",
     "text": [
      "Your function took this much time:  0.062371015548706055\n"
     ]
    }
   ],
   "source": [
    "# Driver function \n",
    "import time\n",
    "t0 = time.time()\n",
    "for num in range(1,1000): \n",
    "    is_number_prime(num) \n",
    "t1 = time.time() \n",
    "print(\"Your function took: \", t1 - t0,\"/s\")"
   ]
  },
  {
   "cell_type": "code",
   "execution_count": 18,
   "metadata": {},
   "outputs": [],
   "source": [
    "# Inspect primes\n",
    "primes = []\n",
    "for num in range(1,1000): \n",
    "    x = is_number_prime(num) \n",
    "    primes.append((num,x))\n",
    "# print(\"Pass from 1-1,000:\\n\", primes)"
   ]
  },
  {
   "cell_type": "markdown",
   "metadata": {},
   "source": [
    "#### Primes, split and conquer"
   ]
  },
  {
   "cell_type": "markdown",
   "metadata": {},
   "source": [
    "Write a function that deals with both the divisor and dividend, then test with the following basic function:\n",
    "```\n",
    "def is_number_prime(number): \n",
    "    if number < 2: \n",
    "        return False\n",
    "    for divisor in range(2, number): \n",
    "        if number % divisor == 0: \n",
    "            return False\n",
    "    return True\n",
    "```"
   ]
  },
  {
   "cell_type": "code",
   "execution_count": 14,
   "metadata": {},
   "outputs": [],
   "source": [
    "# My answer\n",
    "def is_number_prime(number):\n",
    "    # Deal with the dividend\n",
    "    import math\n",
    "    if number <2:\n",
    "        return False\n",
    "    elif number == 2:\n",
    "        return True\n",
    "    elif number % 2 == 0:\n",
    "        return False\n",
    "\n",
    "    # Deal with the divisor\n",
    "    true_dividend = iter(range(3, 1 + math.floor(math.sqrt(number)),2))\n",
    "    for i in true_dividend:\n",
    "        if number % i == 0:\n",
    "            return False\n",
    "    else:\n",
    "        return True"
   ]
  },
  {
   "cell_type": "code",
   "execution_count": 15,
   "metadata": {},
   "outputs": [],
   "source": [
    "# Tests\n",
    "assert is_number_prime(2) == True\n",
    "assert is_number_prime(4) == False\n",
    "assert is_number_prime(7) == True\n",
    "assert is_number_prime(13) == True\n",
    "assert is_number_prime(29) == True\n",
    "assert is_number_prime(53) == True\n",
    "assert is_number_prime(54) == False\n",
    "# There are exactly 168 prime numbers between 0 and 1,000. Test:\n",
    "assert sum([1 for i in range(1,1000) if is_number_prime(i)]) == 168"
   ]
  },
  {
   "cell_type": "code",
   "execution_count": 16,
   "metadata": {},
   "outputs": [
    {
     "name": "stdout",
     "output_type": "stream",
     "text": [
      "Your function took:  0.0007443428039550781 /s\n"
     ]
    }
   ],
   "source": [
    "# Driver function \n",
    "import time\n",
    "t0 = time.time()\n",
    "for num in range(1,1000): \n",
    "    is_number_prime(num) \n",
    "t1 = time.time() \n",
    "print(\"Your function took: \", t1 - t0,\"/s\")"
   ]
  },
  {
   "cell_type": "code",
   "execution_count": 17,
   "metadata": {},
   "outputs": [],
   "source": [
    "# Test function\n",
    "def test_number_prime(number): \n",
    "    if number < 2: \n",
    "        return False\n",
    "    for divisor in range(2, number): \n",
    "        if number % divisor == 0: \n",
    "            return False\n",
    "    return True\n"
   ]
  },
  {
   "cell_type": "markdown",
   "metadata": {},
   "source": [
    "*Test it with ```range(1,10000)```*"
   ]
  },
  {
   "cell_type": "code",
   "execution_count": 18,
   "metadata": {},
   "outputs": [
    {
     "name": "stdout",
     "output_type": "stream",
     "text": [
      "Your test with generators took: 34.22130799293518\n",
      "Your test without generators took: 32.05024480819702\n"
     ]
    }
   ],
   "source": [
    "# Test both functions for the same output\n",
    "# Use generators for memory efficiency\n",
    "import time\n",
    "\n",
    "t0 = time.time()\n",
    "primes = (number for number in range(1,1000) if is_number_prime(number))\n",
    "test_primes = (number for number in range(1,1000) if test_number_prime(number))\n",
    "\n",
    "for prime in primes:\n",
    "    assert prime == next(test_primes)\n",
    "t1 = time.time() \n",
    "# print(f\"Your test with generators took {t1 - t0}/s\")\n",
    "print(f\"Your test with generators took:\", t1 - t0)\n",
    "\n",
    "\n",
    "t0 = time.time()\n",
    "primes = [number for number in range(1,1000) if is_number_prime(number)]\n",
    "test_primes = [number for number in range(1,1000) if test_number_prime(number)]\n",
    "\n",
    "for index, prime in enumerate(primes):\n",
    "    assert prime == test_primes[index]\n",
    "t1 = time.time() \n",
    "# print(f\"Your test without generators took {t1 - t0}/s\")\n",
    "print(f\"Your test without generators took:\", t1 - t0)"
   ]
  },
  {
   "cell_type": "code",
   "execution_count": 12,
   "metadata": {},
   "outputs": [
    {
     "name": "stdout",
     "output_type": "stream",
     "text": [
      "primes_simple_recursion took this long over 100 runs:\n",
      "6.841738416999988\n",
      "primes_no_pairs_recursion took this long over 100 runs:\n",
      "5.132497077000039\n",
      "primes_split_and_conquer took this long over 100 runs:\n",
      "0.061348406999968574\n"
     ]
    }
   ],
   "source": [
    "# Now compare all three\n",
    "\n",
    "import timeit  # Time with timeit for multiple runs\n",
    "run_times = 100\n",
    "\n",
    "primes_simple_recursion= '''\n",
    "# Copy-paste your code below:\n",
    "\n",
    "def is_number_prime(number, divisor=None):\n",
    "    if number < 2:\n",
    "        return False\n",
    "    if  not divisor:\n",
    "      divisor = number -1\n",
    "    if divisor == 1:\n",
    "        return True\n",
    "    if number % divisor == 0:\n",
    "        return False\n",
    "    else:\n",
    "      divisor = divisor -1\n",
    "      return is_number_prime(number,divisor)\n",
    "\n",
    "# Modify this part to call your above function\n",
    "for num in range(1,1000): \n",
    "    is_number_prime(num)\n",
    "'''\n",
    "print(f\"\"\"primes_simple_recursion took this long over {run_times} runs:\n",
    "{timeit.timeit(stmt=primes_simple_recursion,number=run_times)}\"\"\")\n",
    "\n",
    "\n",
    "primes_no_pairs_recursion= '''\n",
    "# Copy-paste your code below:\n",
    "\n",
    "def is_number_prime(number, divisor=None):\n",
    "    if not divisor:\n",
    "        divisor = number -1\n",
    "    if divisor == 1:  # Get 2 right off the bat\n",
    "        return True\n",
    "\n",
    "    if number < 2 or number % 2 == 0:\n",
    "        return False\n",
    "\n",
    "    if number % divisor == 0:\n",
    "        return False\n",
    "    else:\n",
    "        divisor = divisor -1\n",
    "        return is_number_prime(number,divisor)\n",
    "\n",
    "# Modify this part to call your above function\n",
    "for num in range(1,1000): \n",
    "    is_number_prime(num)\n",
    "'''\n",
    "print(f\"\"\"primes_no_pairs_recursion took this long over {run_times} runs:\n",
    "{timeit.timeit(stmt=primes_no_pairs_recursion,number=run_times)}\"\"\")\n",
    "\n",
    "\n",
    "primes_split_and_conquer= '''\n",
    "# Copy-paste your code below:\n",
    "\n",
    "def is_number_prime(number):\n",
    "    # Deal with the dividend\n",
    "    import math\n",
    "    if number <2:\n",
    "        return False\n",
    "    elif number == 2:\n",
    "        return True\n",
    "    elif number % 2 == 0:\n",
    "        return False\n",
    "\n",
    "    # Deal with the divisor\n",
    "    true_dividend = iter(range(3, 1 + math.floor(math.sqrt(number)),2))\n",
    "    for i in true_dividend:\n",
    "        if number % i == 0:\n",
    "            return False\n",
    "    else:\n",
    "        return True\n",
    "\n",
    "# Modify this part to call your above function\n",
    "for num in range(1,1000): \n",
    "    is_number_prime(num)\n",
    "'''\n",
    "print(f\"\"\"primes_split_and_conquer took this long over {run_times} runs:\n",
    "{timeit.timeit(stmt=primes_split_and_conquer,number=run_times)}\"\"\")\n"
   ]
  },
  {
   "cell_type": "code",
   "execution_count": null,
   "metadata": {},
   "outputs": [],
   "source": []
  },
  {
   "cell_type": "code",
   "execution_count": null,
   "metadata": {},
   "outputs": [],
   "source": []
  },
  {
   "cell_type": "code",
   "execution_count": null,
   "metadata": {},
   "outputs": [],
   "source": []
  },
  {
   "cell_type": "code",
   "execution_count": null,
   "metadata": {},
   "outputs": [],
   "source": []
  },
  {
   "cell_type": "code",
   "execution_count": null,
   "metadata": {},
   "outputs": [],
   "source": []
  },
  {
   "cell_type": "code",
   "execution_count": null,
   "metadata": {},
   "outputs": [],
   "source": []
  },
  {
   "cell_type": "code",
   "execution_count": null,
   "metadata": {},
   "outputs": [],
   "source": []
  }
 ],
 "metadata": {
  "kernelspec": {
   "display_name": "Python 3",
   "language": "python",
   "name": "python3"
  },
  "language_info": {
   "codemirror_mode": {
    "name": "ipython",
    "version": 3
   },
   "file_extension": ".py",
   "mimetype": "text/x-python",
   "name": "python",
   "nbconvert_exporter": "python",
   "pygments_lexer": "ipython3",
   "version": "3.7.4"
  }
 },
 "nbformat": 4,
 "nbformat_minor": 4
}
