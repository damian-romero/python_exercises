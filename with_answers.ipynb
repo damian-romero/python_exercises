{
 "cells": [
  {
   "cell_type": "markdown",
   "metadata": {},
   "source": [
    "# with_answers file"
   ]
  },
  {
   "cell_type": "markdown",
   "metadata": {},
   "source": [
    "*Here you will find the excercises and the answers in the exact same format as in the no_answers.ipynb file*"
   ]
  },
  {
   "cell_type": "markdown",
   "metadata": {},
   "source": [
    "## Lists"
   ]
  },
  {
   "cell_type": "markdown",
   "metadata": {},
   "source": [
    "## Dictionaries"
   ]
  },
  {
   "cell_type": "markdown",
   "metadata": {},
   "source": [
    "## Iteration"
   ]
  },
  {
   "cell_type": "markdown",
   "metadata": {},
   "source": [
    "#### Simple iteration with class"
   ]
  },
  {
   "cell_type": "markdown",
   "metadata": {},
   "source": [
    "Write a class that:\n",
    "- Does not take any input but has a list inside \\_\\_init\\_\\_\n",
    "- Divides the list of numbers into 3 and puts them in a new list\n",
    "- Prints the quotients as an integer in readable form\n",
    "- Outputs that list\n",
    "\n",
    "Use this list inside your class inside \\_\\_init\\_\\_:\n",
    "\n",
    "```numbers_divisible_by_three = [3, 6, 9, 12, 15]```"
   ]
  },
  {
   "cell_type": "code",
   "execution_count": 2,
   "metadata": {},
   "outputs": [],
   "source": [
    "# My answer\n",
    "class three_division:\n",
    "    def __init__(self):\n",
    "\n",
    "        self.numbers_divisible_by_three = [3, 6, 9, 12, 15]\n",
    "\n",
    "    def divide_self_list(self):\n",
    "        divided_list = []\n",
    "        for item in self.numbers_divisible_by_three:\n",
    "            if item % 3 == 0:\n",
    "                divided_list.append(item)\n",
    "                print(f\"Your divisible number is {int(item)}\")\n",
    "        return divided_list"
   ]
  },
  {
   "cell_type": "code",
   "execution_count": 3,
   "metadata": {},
   "outputs": [
    {
     "name": "stdout",
     "output_type": "stream",
     "text": [
      "Your divisible number is 3\n",
      "Your divisible number is 6\n",
      "Your divisible number is 9\n",
      "Your divisible number is 12\n",
      "Your divisible number is 15\n"
     ]
    }
   ],
   "source": [
    "# Test\n",
    "divisible_numbers = three_division().divide_self_list()\n",
    "assert len(divisible_numbers) == 5"
   ]
  },
  {
   "cell_type": "markdown",
   "metadata": {},
   "source": [
    "#### Iteration with range"
   ]
  },
  {
   "cell_type": "markdown",
   "metadata": {},
   "source": [
    "*Augment your previous class with the following:*\n",
    "- Create a number list containing only the numbers from 5 to 1,000\n",
    "that are divisible by 3 using ```range(start, end, step)```\n",
    "- The number list will have to be inverted this time ```reversed()```\n",
    "- Divides numbers into 3\n",
    "- Outputs the quotient as an integer in readable form\n",
    "\n",
    "*Notice that range starts from 0 when no start is provided.*\n",
    "\n",
    "*Also notice that range stops BEFORE the end number.*"
   ]
  },
  {
   "cell_type": "code",
   "execution_count": 4,
   "metadata": {},
   "outputs": [],
   "source": [
    "# My answer\n",
    "class three_division:\n",
    "    def __init__(self):\n",
    "        \n",
    "        # This is our old list just hanging out here for no reason\n",
    "        self.numbers_divisible_by_three = [3, 6, 9, 12, 15]\n",
    "\n",
    "    def divide_self_list(self):\n",
    "        divided_list = []\n",
    "        for item in self.numbers_divisible_by_three:\n",
    "            if item % 3 == 0:\n",
    "                divided_list.append(item)\n",
    "                print(f\"Your divisible number is {int(item)}\")\n",
    "        return divided_list\n",
    "\n",
    "    def divide_create_list(self, start=6, stop=1001, step=3):\n",
    "        \"\"\"Creates own list and finds divisible numbers\n",
    "        \"\"\"\n",
    "        divided_list = []\n",
    "        for item in reversed(range(start, stop, step)):  # Reverse list\n",
    "        # for item in range(3, 101, 3):\n",
    "            if item % 3 == 0:\n",
    "                print(f\"Your divisible number is {int(item)}\")\n",
    "                divided_list.append(item)\n",
    "        return divided_list"
   ]
  },
  {
   "cell_type": "code",
   "execution_count": 5,
   "metadata": {},
   "outputs": [
    {
     "name": "stdout",
     "output_type": "stream",
     "text": [
      "Your divisible number is 999\n",
      "Your divisible number is 996\n",
      "Your divisible number is 993\n",
      "Your divisible number is 990\n",
      "Your divisible number is 987\n",
      "Your divisible number is 984\n",
      "Your divisible number is 981\n",
      "Your divisible number is 978\n",
      "Your divisible number is 975\n",
      "Your divisible number is 972\n",
      "Your divisible number is 969\n",
      "Your divisible number is 966\n",
      "Your divisible number is 963\n",
      "Your divisible number is 960\n",
      "Your divisible number is 957\n",
      "Your divisible number is 954\n",
      "Your divisible number is 951\n",
      "Your divisible number is 948\n",
      "Your divisible number is 945\n",
      "Your divisible number is 942\n",
      "Your divisible number is 939\n",
      "Your divisible number is 936\n",
      "Your divisible number is 933\n",
      "Your divisible number is 930\n",
      "Your divisible number is 927\n",
      "Your divisible number is 924\n",
      "Your divisible number is 921\n",
      "Your divisible number is 918\n",
      "Your divisible number is 915\n",
      "Your divisible number is 912\n",
      "Your divisible number is 909\n",
      "Your divisible number is 906\n",
      "Your divisible number is 903\n",
      "Your divisible number is 900\n",
      "Your divisible number is 897\n",
      "Your divisible number is 894\n",
      "Your divisible number is 891\n",
      "Your divisible number is 888\n",
      "Your divisible number is 885\n",
      "Your divisible number is 882\n",
      "Your divisible number is 879\n",
      "Your divisible number is 876\n",
      "Your divisible number is 873\n",
      "Your divisible number is 870\n",
      "Your divisible number is 867\n",
      "Your divisible number is 864\n",
      "Your divisible number is 861\n",
      "Your divisible number is 858\n",
      "Your divisible number is 855\n",
      "Your divisible number is 852\n",
      "Your divisible number is 849\n",
      "Your divisible number is 846\n",
      "Your divisible number is 843\n",
      "Your divisible number is 840\n",
      "Your divisible number is 837\n",
      "Your divisible number is 834\n",
      "Your divisible number is 831\n",
      "Your divisible number is 828\n",
      "Your divisible number is 825\n",
      "Your divisible number is 822\n",
      "Your divisible number is 819\n",
      "Your divisible number is 816\n",
      "Your divisible number is 813\n",
      "Your divisible number is 810\n",
      "Your divisible number is 807\n",
      "Your divisible number is 804\n",
      "Your divisible number is 801\n",
      "Your divisible number is 798\n",
      "Your divisible number is 795\n",
      "Your divisible number is 792\n",
      "Your divisible number is 789\n",
      "Your divisible number is 786\n",
      "Your divisible number is 783\n",
      "Your divisible number is 780\n",
      "Your divisible number is 777\n",
      "Your divisible number is 774\n",
      "Your divisible number is 771\n",
      "Your divisible number is 768\n",
      "Your divisible number is 765\n",
      "Your divisible number is 762\n",
      "Your divisible number is 759\n",
      "Your divisible number is 756\n",
      "Your divisible number is 753\n",
      "Your divisible number is 750\n",
      "Your divisible number is 747\n",
      "Your divisible number is 744\n",
      "Your divisible number is 741\n",
      "Your divisible number is 738\n",
      "Your divisible number is 735\n",
      "Your divisible number is 732\n",
      "Your divisible number is 729\n",
      "Your divisible number is 726\n",
      "Your divisible number is 723\n",
      "Your divisible number is 720\n",
      "Your divisible number is 717\n",
      "Your divisible number is 714\n",
      "Your divisible number is 711\n",
      "Your divisible number is 708\n",
      "Your divisible number is 705\n",
      "Your divisible number is 702\n",
      "Your divisible number is 699\n",
      "Your divisible number is 696\n",
      "Your divisible number is 693\n",
      "Your divisible number is 690\n",
      "Your divisible number is 687\n",
      "Your divisible number is 684\n",
      "Your divisible number is 681\n",
      "Your divisible number is 678\n",
      "Your divisible number is 675\n",
      "Your divisible number is 672\n",
      "Your divisible number is 669\n",
      "Your divisible number is 666\n",
      "Your divisible number is 663\n",
      "Your divisible number is 660\n",
      "Your divisible number is 657\n",
      "Your divisible number is 654\n",
      "Your divisible number is 651\n",
      "Your divisible number is 648\n",
      "Your divisible number is 645\n",
      "Your divisible number is 642\n",
      "Your divisible number is 639\n",
      "Your divisible number is 636\n",
      "Your divisible number is 633\n",
      "Your divisible number is 630\n",
      "Your divisible number is 627\n",
      "Your divisible number is 624\n",
      "Your divisible number is 621\n",
      "Your divisible number is 618\n",
      "Your divisible number is 615\n",
      "Your divisible number is 612\n",
      "Your divisible number is 609\n",
      "Your divisible number is 606\n",
      "Your divisible number is 603\n",
      "Your divisible number is 600\n",
      "Your divisible number is 597\n",
      "Your divisible number is 594\n",
      "Your divisible number is 591\n",
      "Your divisible number is 588\n",
      "Your divisible number is 585\n",
      "Your divisible number is 582\n",
      "Your divisible number is 579\n",
      "Your divisible number is 576\n",
      "Your divisible number is 573\n",
      "Your divisible number is 570\n",
      "Your divisible number is 567\n",
      "Your divisible number is 564\n",
      "Your divisible number is 561\n",
      "Your divisible number is 558\n",
      "Your divisible number is 555\n",
      "Your divisible number is 552\n",
      "Your divisible number is 549\n",
      "Your divisible number is 546\n",
      "Your divisible number is 543\n",
      "Your divisible number is 540\n",
      "Your divisible number is 537\n",
      "Your divisible number is 534\n",
      "Your divisible number is 531\n",
      "Your divisible number is 528\n",
      "Your divisible number is 525\n",
      "Your divisible number is 522\n",
      "Your divisible number is 519\n",
      "Your divisible number is 516\n",
      "Your divisible number is 513\n",
      "Your divisible number is 510\n",
      "Your divisible number is 507\n",
      "Your divisible number is 504\n",
      "Your divisible number is 501\n",
      "Your divisible number is 498\n",
      "Your divisible number is 495\n",
      "Your divisible number is 492\n",
      "Your divisible number is 489\n",
      "Your divisible number is 486\n",
      "Your divisible number is 483\n",
      "Your divisible number is 480\n",
      "Your divisible number is 477\n",
      "Your divisible number is 474\n",
      "Your divisible number is 471\n",
      "Your divisible number is 468\n",
      "Your divisible number is 465\n",
      "Your divisible number is 462\n",
      "Your divisible number is 459\n",
      "Your divisible number is 456\n",
      "Your divisible number is 453\n",
      "Your divisible number is 450\n",
      "Your divisible number is 447\n",
      "Your divisible number is 444\n",
      "Your divisible number is 441\n",
      "Your divisible number is 438\n",
      "Your divisible number is 435\n",
      "Your divisible number is 432\n",
      "Your divisible number is 429\n",
      "Your divisible number is 426\n",
      "Your divisible number is 423\n",
      "Your divisible number is 420\n",
      "Your divisible number is 417\n",
      "Your divisible number is 414\n",
      "Your divisible number is 411\n",
      "Your divisible number is 408\n",
      "Your divisible number is 405\n",
      "Your divisible number is 402\n",
      "Your divisible number is 399\n",
      "Your divisible number is 396\n",
      "Your divisible number is 393\n",
      "Your divisible number is 390\n",
      "Your divisible number is 387\n",
      "Your divisible number is 384\n",
      "Your divisible number is 381\n",
      "Your divisible number is 378\n",
      "Your divisible number is 375\n",
      "Your divisible number is 372\n",
      "Your divisible number is 369\n",
      "Your divisible number is 366\n",
      "Your divisible number is 363\n",
      "Your divisible number is 360\n",
      "Your divisible number is 357\n",
      "Your divisible number is 354\n",
      "Your divisible number is 351\n",
      "Your divisible number is 348\n",
      "Your divisible number is 345\n",
      "Your divisible number is 342\n",
      "Your divisible number is 339\n",
      "Your divisible number is 336\n",
      "Your divisible number is 333\n",
      "Your divisible number is 330\n",
      "Your divisible number is 327\n",
      "Your divisible number is 324\n",
      "Your divisible number is 321\n",
      "Your divisible number is 318\n",
      "Your divisible number is 315\n",
      "Your divisible number is 312\n",
      "Your divisible number is 309\n",
      "Your divisible number is 306\n",
      "Your divisible number is 303\n",
      "Your divisible number is 300\n",
      "Your divisible number is 297\n",
      "Your divisible number is 294\n",
      "Your divisible number is 291\n",
      "Your divisible number is 288\n",
      "Your divisible number is 285\n",
      "Your divisible number is 282\n",
      "Your divisible number is 279\n",
      "Your divisible number is 276\n",
      "Your divisible number is 273\n",
      "Your divisible number is 270\n",
      "Your divisible number is 267\n",
      "Your divisible number is 264\n",
      "Your divisible number is 261\n",
      "Your divisible number is 258\n",
      "Your divisible number is 255\n",
      "Your divisible number is 252\n",
      "Your divisible number is 249\n",
      "Your divisible number is 246\n",
      "Your divisible number is 243\n",
      "Your divisible number is 240\n",
      "Your divisible number is 237\n",
      "Your divisible number is 234\n",
      "Your divisible number is 231\n",
      "Your divisible number is 228\n",
      "Your divisible number is 225\n",
      "Your divisible number is 222\n",
      "Your divisible number is 219\n",
      "Your divisible number is 216\n",
      "Your divisible number is 213\n",
      "Your divisible number is 210\n",
      "Your divisible number is 207\n",
      "Your divisible number is 204\n",
      "Your divisible number is 201\n",
      "Your divisible number is 198\n",
      "Your divisible number is 195\n",
      "Your divisible number is 192\n",
      "Your divisible number is 189\n",
      "Your divisible number is 186\n",
      "Your divisible number is 183\n",
      "Your divisible number is 180\n",
      "Your divisible number is 177\n",
      "Your divisible number is 174\n",
      "Your divisible number is 171\n",
      "Your divisible number is 168\n",
      "Your divisible number is 165\n",
      "Your divisible number is 162\n",
      "Your divisible number is 159\n",
      "Your divisible number is 156\n",
      "Your divisible number is 153\n",
      "Your divisible number is 150\n",
      "Your divisible number is 147\n",
      "Your divisible number is 144\n",
      "Your divisible number is 141\n",
      "Your divisible number is 138\n",
      "Your divisible number is 135\n",
      "Your divisible number is 132\n",
      "Your divisible number is 129\n",
      "Your divisible number is 126\n",
      "Your divisible number is 123\n",
      "Your divisible number is 120\n",
      "Your divisible number is 117\n",
      "Your divisible number is 114\n",
      "Your divisible number is 111\n",
      "Your divisible number is 108\n",
      "Your divisible number is 105\n",
      "Your divisible number is 102\n",
      "Your divisible number is 99\n",
      "Your divisible number is 96\n",
      "Your divisible number is 93\n",
      "Your divisible number is 90\n",
      "Your divisible number is 87\n",
      "Your divisible number is 84\n",
      "Your divisible number is 81\n",
      "Your divisible number is 78\n",
      "Your divisible number is 75\n",
      "Your divisible number is 72\n",
      "Your divisible number is 69\n",
      "Your divisible number is 66\n",
      "Your divisible number is 63\n",
      "Your divisible number is 60\n",
      "Your divisible number is 57\n",
      "Your divisible number is 54\n",
      "Your divisible number is 51\n",
      "Your divisible number is 48\n",
      "Your divisible number is 45\n",
      "Your divisible number is 42\n",
      "Your divisible number is 39\n",
      "Your divisible number is 36\n",
      "Your divisible number is 33\n",
      "Your divisible number is 30\n",
      "Your divisible number is 27\n",
      "Your divisible number is 24\n",
      "Your divisible number is 21\n",
      "Your divisible number is 18\n",
      "Your divisible number is 15\n",
      "Your divisible number is 12\n",
      "Your divisible number is 9\n",
      "Your divisible number is 6\n"
     ]
    }
   ],
   "source": [
    "# Test\n",
    "divisible_numbers = three_division().divide_create_list()\n",
    "assert len(divisible_numbers) == 332"
   ]
  },
  {
   "cell_type": "markdown",
   "metadata": {},
   "source": [
    "#### Iteration with numpy for floats"
   ]
  },
  {
   "cell_type": "markdown",
   "metadata": {},
   "source": [
    "*```range()``` will only work for integer numbers*\n",
    "*Augment your previous class to use numpy as instructed:*\n",
    "- Division of numbers into 3.3\n",
    "- Outputs the quotient as a rounded float to 2 digits ```round()```\n",
    "in readable form.\n",
    "- Create the number list yourself with numbers from 0 to 1,000\n",
    "that are divisible by 3.3. numpy + range = ```np.arange()```, but\n",
    "may contain floating point errors.\n",
    "\n",
    "*Notice that all floats are rounded unless you use sth like\n",
    "the decimal library.*\n",
    "\n",
    "Alternatively, you could also use ```np.linspace()```. It does essentially\n",
    "the same thing but uses different parameters. With ```np.linspace()```,\n",
    "you specify start and end (both inclusive) as well as the length of\n",
    "the array (instead of step).\""
   ]
  },
  {
   "cell_type": "code",
   "execution_count": 6,
   "metadata": {},
   "outputs": [],
   "source": [
    "# My answer\n",
    "class three_division:\n",
    "    def __init__(self):\n",
    "        self._numbers_divisible_by_three = [3, 6, 9, 12, 15]\n",
    "        \n",
    "    def divide_self_list(self):\n",
    "        divided_list = []\n",
    "        for item in self._numbers_divisible_by_three:\n",
    "            if item % 3 == 0:\n",
    "                print(f\"Your divisible number is {int(item)}\")\n",
    "                divided_list.append(item)\n",
    "        return divided_list\n",
    "    \n",
    "    def divide_create_int_list(self, start=6, stop=1001, step=3):\n",
    "        divided_list = []\n",
    "        for item in range(start, stop, step):\n",
    "            if item % 3 == 0:\n",
    "                print(f\"Your divisible number is {int(item)}\")\n",
    "                divided_list.append(item)\n",
    "        return divided_list\n",
    "    \n",
    "    def divide_create_float_list(self, start=3.3, stop=1000, step=3.3):\n",
    "        import numpy as np\n",
    "        divided_list = []\n",
    "        for item in np.arange(start, stop, step):\n",
    "            if item % 3.3 == 0:\n",
    "                print(f\"Your divisible float is {item}\")\n",
    "                divided_list.append(item)\n",
    "        return divided_list\n",
    "        \n",
    "    def divide_create_float_linspace(self, start=3.3, stop=1000, samples=100000):\n",
    "        import numpy as np\n",
    "        divided_list = []\n",
    "        for item in reversed(np.linspace(start, stop, samples)):\n",
    "            item = round(item, 2)\n",
    "            if item % 3.3 == 0:\n",
    "                print(f\"Your divisible float is {item}\")\n",
    "                divided_list.append(item)\n",
    "        return divided_list"
   ]
  },
  {
   "cell_type": "code",
   "execution_count": 7,
   "metadata": {},
   "outputs": [
    {
     "name": "stdout",
     "output_type": "stream",
     "text": [
      "Your divisible float is 844.8\n",
      "Your divisible float is 422.4\n",
      "Your divisible float is 211.2\n",
      "Your divisible float is 105.6\n",
      "Your divisible float is 52.8\n",
      "Your divisible float is 26.4\n",
      "Your divisible float is 13.2\n",
      "Your divisible float is 6.6\n",
      "Your divisible float is 3.3\n"
     ]
    }
   ],
   "source": [
    "# Tests\n",
    "# divisible_numbers = three_division().divide_create_float_list()\n",
    "# assert len(divisible_numbers) == 9  # This is caused by the floating point error\n",
    "\n",
    "# This method works well on my machine but doesn't here... Might fix it later.\n",
    "divisible_numbers = three_division().divide_create_float_linspace()\n",
    "# assert len(divisible_numbers) == 9  # This number may differ depending on settings cuz #round()"
   ]
  },
  {
   "cell_type": "code",
   "execution_count": 8,
   "metadata": {},
   "outputs": [],
   "source": [
    "#### Class decorators: properties and setters"
   ]
  },
  {
   "cell_type": "code",
   "execution_count": 9,
   "metadata": {},
   "outputs": [],
   "source": [
    "# My answer\n",
    "class three_division:\n",
    "    def __init__(self):\n",
    "\n",
    "        self._numbers_divisible_by_three = [3, 6, 9, 12, 15]\n",
    "\n",
    "    # Return set list\n",
    "    @property\n",
    "    def div_list(self):\n",
    "        return self._numbers_divisible_by_three\n",
    "\n",
    "    # Set new list\n",
    "    @div_list.setter\n",
    "    def div_list(self, values:list):\n",
    "        self._numbers_divisible_by_three = values\n",
    "\n",
    "    def divide_self_list(self):\n",
    "        divided_list = []\n",
    "        for item in self._numbers_divisible_by_three:\n",
    "            if item % 3 == 0:\n",
    "                print(f\"Your divisible number is {int(item)}\")\n",
    "                divided_list.append(item)\n",
    "        return divided_list\n",
    "    \n",
    "    def divide_create_int_list(self, start=6, stop=1001, step=3):\n",
    "        divided_list = []\n",
    "        for item in range(start, stop, step):\n",
    "            if item % 3 == 0:\n",
    "                print(f\"Your divisible number is {int(item)}\")\n",
    "                divided_list.append(item)\n",
    "        return divided_list\n",
    "    \n",
    "    def divide_create_float_list(self, start=3.3, stop=1000, step=3.3):\n",
    "        import numpy as np\n",
    "        divided_list = []\n",
    "        for item in np.arange(start, stop, step):\n",
    "            if item % 3.3 == 0:\n",
    "                print(f\"Your divisible float is {item}\")\n",
    "                divided_list.append(item)\n",
    "        return divided_list\n",
    "        \n",
    "    def divide_create_float_linspace(self, start=3.3, stop=1000, samples=100000):\n",
    "        import numpy as np\n",
    "        divided_list = []\n",
    "        for item in reversed(np.linspace(start, stop, samples)):\n",
    "            item = round(item, 2)\n",
    "            if item % 3.3 == 0:\n",
    "                print(f\"Your divisible float is {item}\")\n",
    "                divided_list.append(item)\n",
    "        return divided_list"
   ]
  },
  {
   "cell_type": "code",
   "execution_count": null,
   "metadata": {},
   "outputs": [],
   "source": [
    "# default list\n",
    "print(three_division().div_list)\n",
    "# add custom list\n",
    "x = three_division()\n",
    "x.div_list = [1,2,3,16]\n",
    "print(x.div_list)"
   ]
  },
  {
   "cell_type": "markdown",
   "metadata": {},
   "source": [
    "### Iteration with enumerate"
   ]
  },
  {
   "cell_type": "markdown",
   "metadata": {},
   "source": [
    "#### Fizz Buzz"
   ]
  },
  {
   "cell_type": "markdown",
   "metadata": {},
   "source": [
    "*Write a function that:*\n",
    "- Replaces all integers divided by 5 with fizz\n",
    "- Replaces all integers divisible by 3 with buzz\n",
    "\n",
    "*be careful with: the `and` keyword*\n",
    "*be careful with: return values in functions*\n",
    "Use the following list and replace all values in it:\n",
    "```numbers = list(range(1,51))````"
   ]
  },
  {
   "cell_type": "code",
   "execution_count": 11,
   "metadata": {},
   "outputs": [],
   "source": [
    "numbers = list(range(1,51))"
   ]
  },
  {
   "cell_type": "code",
   "execution_count": 12,
   "metadata": {},
   "outputs": [
    {
     "name": "stdout",
     "output_type": "stream",
     "text": [
      "[1, 2, 'buzz', 4, 'fizz', 'buzz', 7, 8, 'buzz', 'fizz', 11, 'buzz', 13, 14, 'fizzbuzz', 16, 17, 'buzz', 19, 'fizz', 'buzz', 22, 23, 'buzz', 'fizz', 26, 'buzz', 28, 29, 'fizzbuzz', 31, 32, 'buzz', 34, 'fizz', 'buzz', 37, 38, 'buzz', 'fizz', 41, 'buzz', 43, 44, 'fizzbuzz', 46, 47, 'buzz', 49, 'fizz']\n"
     ]
    }
   ],
   "source": [
    "# My answer\n",
    "def fizzbuzz(number:int):\n",
    "    if number % 5 == 0 and number % 3 == 0:\n",
    "        return 'fizzbuzz'\n",
    "    elif number % 5 ==0:\n",
    "        return 'fizz'\n",
    "    elif number % 3 ==0:\n",
    "        return 'buzz'\n",
    "    else:\n",
    "        return number\n",
    "\n",
    "for index, item in enumerate(numbers):\n",
    "    numbers[index] = fizzbuzz(item)\n",
    "print(numbers)"
   ]
  },
  {
   "cell_type": "markdown",
   "metadata": {},
   "source": [
    "#### Maps and filters"
   ]
  },
  {
   "cell_type": "markdown",
   "metadata": {},
   "source": [
    "*You are given a function and an input. Map the output to a list.*"
   ]
  },
  {
   "cell_type": "code",
   "execution_count": 1,
   "metadata": {},
   "outputs": [],
   "source": [
    "in_sound = ['AƩ','AZ','AR','AT','AƷ','AP','AS','AD','AF','AG','AH','AJ','AK']"
   ]
  },
  {
   "cell_type": "code",
   "execution_count": 3,
   "metadata": {},
   "outputs": [
    {
     "name": "stdout",
     "output_type": "stream",
     "text": [
      "You mapping is:\n",
      " ['aʃ', 'az', 'ar', 'at', 'aʒ', 'ap', 'as', 'ad', 'af', 'ag', 'ah', 'aj', 'ak']\n",
      "You mapping with list comprehension is:\n",
      " ['aʃ', 'az', 'ar', 'at', 'aʒ', 'ap', 'as', 'ad', 'af', 'ag', 'ah', 'aj', 'ak']\n"
     ]
    }
   ],
   "source": [
    "def lowercase_word(word):\n",
    "    return word.lower()\n",
    "\n",
    "out_sound = list(map(lowercase_word, in_sound))\n",
    "out_sound_listcomp = [lowercase_word(sound) for sound in in_sound]\n",
    "print(f\"You mapping is:\\n {out_sound}\")\n",
    "print(f\"You mapping with list comprehension is:\\n {out_sound_listcomp}\")"
   ]
  },
  {
   "cell_type": "markdown",
   "metadata": {},
   "source": [
    "*You are given a function and an input. Filter the output to a list.*"
   ]
  },
  {
   "cell_type": "code",
   "execution_count": 5,
   "metadata": {},
   "outputs": [],
   "source": [
    "in_sound = ['aʃ','az','ar','at','aʒ','ap','as','ad','af','ag','ah','aj','ak']"
   ]
  },
  {
   "cell_type": "code",
   "execution_count": 6,
   "metadata": {},
   "outputs": [
    {
     "name": "stdout",
     "output_type": "stream",
     "text": [
      "You filtering is:\n",
      " ['ar', 'at', 'ap', 'ad', 'af', 'ag', 'ah', 'aj', 'ak']\n",
      "You filtering with list comprehension is:\n",
      " ['ar', 'at', 'ap', 'ad', 'af', 'ag', 'ah', 'aj', 'ak']\n"
     ]
    }
   ],
   "source": [
    "def is_ending_minus_sibilant(string):\n",
    "    if string.endswith('s') or string.endswith('ʃ') or string.endswith('z') \\\n",
    "        or string.endswith('ʒ'):\n",
    "        return False\n",
    "    return True\n",
    "\n",
    "not_sibilant_sounds = list(filter(is_ending_minus_sibilant, in_sound))\n",
    "not_sibilant_sounds_listcomp = [item for item in in_sound if is_ending_minus_sibilant(item)]\n",
    "\n",
    "print(f\"You filtering is:\\n {not_sibilant_sounds}\")\n",
    "print(f\"You filtering with list comprehension is:\\n {not_sibilant_sounds_listcomp}\")\n",
    "\n",
    "# print(f\"You mapping is:\\n {not_sibilant_sounds})\n",
    "# print(f\"You mapping is:\\n {not_sibilant_sounds})\n",
    "# print(f\"You mapping with list comprehension is:\\n {not_sibilant_sounds}\")\n",
    "      "
   ]
  },
  {
   "cell_type": "code",
   "execution_count": null,
   "metadata": {},
   "outputs": [],
   "source": []
  },
  {
   "cell_type": "code",
   "execution_count": null,
   "metadata": {},
   "outputs": [],
   "source": []
  },
  {
   "cell_type": "code",
   "execution_count": null,
   "metadata": {},
   "outputs": [],
   "source": []
  },
  {
   "cell_type": "code",
   "execution_count": null,
   "metadata": {},
   "outputs": [],
   "source": []
  },
  {
   "cell_type": "code",
   "execution_count": null,
   "metadata": {},
   "outputs": [],
   "source": []
  },
  {
   "cell_type": "code",
   "execution_count": null,
   "metadata": {},
   "outputs": [],
   "source": []
  },
  {
   "cell_type": "code",
   "execution_count": null,
   "metadata": {},
   "outputs": [],
   "source": []
  },
  {
   "cell_type": "code",
   "execution_count": null,
   "metadata": {},
   "outputs": [],
   "source": []
  },
  {
   "cell_type": "code",
   "execution_count": null,
   "metadata": {},
   "outputs": [],
   "source": []
  },
  {
   "cell_type": "code",
   "execution_count": null,
   "metadata": {},
   "outputs": [],
   "source": []
  },
  {
   "cell_type": "code",
   "execution_count": null,
   "metadata": {},
   "outputs": [],
   "source": []
  },
  {
   "cell_type": "code",
   "execution_count": null,
   "metadata": {},
   "outputs": [],
   "source": []
  },
  {
   "cell_type": "code",
   "execution_count": null,
   "metadata": {},
   "outputs": [],
   "source": []
  },
  {
   "cell_type": "code",
   "execution_count": null,
   "metadata": {},
   "outputs": [],
   "source": []
  },
  {
   "cell_type": "code",
   "execution_count": null,
   "metadata": {},
   "outputs": [],
   "source": []
  },
  {
   "cell_type": "code",
   "execution_count": null,
   "metadata": {},
   "outputs": [],
   "source": []
  },
  {
   "cell_type": "markdown",
   "metadata": {},
   "source": [
    "## Fun with recursion"
   ]
  },
  {
   "cell_type": "markdown",
   "metadata": {},
   "source": [
    "#### Recursion and primes, naïve approach"
   ]
  },
  {
   "cell_type": "markdown",
   "metadata": {},
   "source": [
    "*Write a recursive function that tests for prime numbers by checking all divisors. A non-recursive example is shown below:*"
   ]
  },
  {
   "cell_type": "code",
   "execution_count": 9,
   "metadata": {},
   "outputs": [
    {
     "data": {
      "text/plain": [
       "True"
      ]
     },
     "execution_count": 9,
     "metadata": {},
     "output_type": "execute_result"
    }
   ],
   "source": [
    "# Non-recursive example:\n",
    "def is_number_prime(number): \n",
    "    if number < 2: \n",
    "        return False\n",
    "    for divisor in range(2, number): \n",
    "        if number % divisor == 0: \n",
    "            return False\n",
    "    return True\n",
    "is_number_prime(2)"
   ]
  },
  {
   "cell_type": "code",
   "execution_count": 10,
   "metadata": {},
   "outputs": [
    {
     "data": {
      "text/plain": [
       "True"
      ]
     },
     "execution_count": 10,
     "metadata": {},
     "output_type": "execute_result"
    }
   ],
   "source": [
    "# My answer\n",
    "def is_number_prime(number, divisor=None):\n",
    "    if number < 2:\n",
    "        return False\n",
    "    if  not divisor:\n",
    "      divisor = number -1\n",
    "    if divisor == 1:\n",
    "        return True\n",
    "    if number % divisor == 0:\n",
    "        return False\n",
    "    else:\n",
    "      divisor = divisor -1\n",
    "      return is_number_prime(number,divisor)\n",
    "is_number_prime(2)"
   ]
  },
  {
   "cell_type": "code",
   "execution_count": 11,
   "metadata": {},
   "outputs": [],
   "source": [
    "# Tests\n",
    "assert is_number_prime(2) == True\n",
    "assert is_number_prime(7) == True\n",
    "assert is_number_prime(13) == True\n",
    "assert is_number_prime(29) == True\n",
    "assert is_number_prime(53) == True"
   ]
  },
  {
   "cell_type": "code",
   "execution_count": 12,
   "metadata": {},
   "outputs": [
    {
     "name": "stdout",
     "output_type": "stream",
     "text": [
      "Your function took this much time:  0.08274006843566895\n"
     ]
    }
   ],
   "source": [
    "# Driver function \n",
    "import time\n",
    "t0 = time.time()\n",
    "for num in range(1,1000): \n",
    "    x = is_number_prime(num) \n",
    "t1 = time.time() \n",
    "print(\"Your function took this much time: \", t1 - t0)"
   ]
  },
  {
   "cell_type": "code",
   "execution_count": 14,
   "metadata": {},
   "outputs": [],
   "source": [
    "# Inspect primes\n",
    "primes = []\n",
    "for num in range(1,1000): \n",
    "    x = is_number_prime(num) \n",
    "    primes.append((num,x))\n",
    "# print(\"Pass from 1-1,000:\\n\", primes) "
   ]
  },
  {
   "cell_type": "markdown",
   "metadata": {},
   "source": [
    "#### Recursion and primes, discard pair values"
   ]
  },
  {
   "cell_type": "markdown",
   "metadata": {},
   "source": [
    "*Write a recursive function that tests for prime numbers by discarding all pairs first*\n"
   ]
  },
  {
   "cell_type": "code",
   "execution_count": 15,
   "metadata": {},
   "outputs": [
    {
     "data": {
      "text/plain": [
       "True"
      ]
     },
     "execution_count": 15,
     "metadata": {},
     "output_type": "execute_result"
    }
   ],
   "source": [
    "# My answer\n",
    "def is_number_prime(number, divisor=None):\n",
    "    if not divisor:\n",
    "        divisor = number -1\n",
    "    if divisor == 1:  # Get 2 right off the bat\n",
    "        return True\n",
    "\n",
    "    if number < 2 or number % 2 == 0:\n",
    "        return False\n",
    "\n",
    "    if number % divisor == 0:\n",
    "        return False\n",
    "    else:\n",
    "        divisor = divisor -1\n",
    "        return is_number_prime(number,divisor)\n",
    "is_number_prime(2)"
   ]
  },
  {
   "cell_type": "code",
   "execution_count": 16,
   "metadata": {},
   "outputs": [],
   "source": [
    "# Tests\n",
    "assert is_number_prime(4) == False\n",
    "assert is_number_prime(2) == True\n",
    "assert is_number_prime(7) == True\n",
    "assert is_number_prime(13) == True\n",
    "assert is_number_prime(29) == True\n",
    "assert is_number_prime(53) == True"
   ]
  },
  {
   "cell_type": "code",
   "execution_count": 17,
   "metadata": {},
   "outputs": [
    {
     "name": "stdout",
     "output_type": "stream",
     "text": [
      "Your function took this much time:  0.062371015548706055\n"
     ]
    }
   ],
   "source": [
    "# Driver function \n",
    "import time\n",
    "t0 = time.time()\n",
    "for num in range(1,1000): \n",
    "    x = is_number_prime(num) \n",
    "t1 = time.time() \n",
    "print(\"Your function took this much time: \", t1 - t0)"
   ]
  },
  {
   "cell_type": "code",
   "execution_count": 18,
   "metadata": {},
   "outputs": [],
   "source": [
    "# Inspect primes\n",
    "primes = []\n",
    "for num in range(1,1000): \n",
    "    x = is_number_prime(num) \n",
    "    primes.append((num,x))\n",
    "# print(\"Pass from 1-1,000:\\n\", primes)"
   ]
  },
  {
   "cell_type": "markdown",
   "metadata": {},
   "source": [
    "#### Primes, split and conquer"
   ]
  },
  {
   "cell_type": "markdown",
   "metadata": {},
   "source": [
    "Write a function that deals with both the divisor and dividend, then test with the following basic function:\n",
    "```\n",
    "def is_number_prime(number): \n",
    "    if number < 2: \n",
    "        return False\n",
    "    for divisor in range(2, number): \n",
    "        if number % divisor == 0: \n",
    "            return False\n",
    "    return True\n",
    "```"
   ]
  },
  {
   "cell_type": "code",
   "execution_count": 65,
   "metadata": {},
   "outputs": [],
   "source": [
    "# My answer\n",
    "def is_number_prime(number):\n",
    "    # Deal with the dividend\n",
    "    import math\n",
    "    if number <2:\n",
    "        return False\n",
    "    elif number == 2:\n",
    "        return True\n",
    "    elif number % 2 == 0:\n",
    "        return False\n",
    "\n",
    "    # Deal with the divisor\n",
    "    true_dividend = iter(range(3, 1 + math.floor(math.sqrt(number)),2))\n",
    "    for i in true_dividend:\n",
    "        if number % i == 0:\n",
    "            return False\n",
    "    else:\n",
    "        return True"
   ]
  },
  {
   "cell_type": "code",
   "execution_count": 66,
   "metadata": {},
   "outputs": [
    {
     "name": "stdout",
     "output_type": "stream",
     "text": [
      "Your function took this much time:  0.0008671283721923828\n"
     ]
    }
   ],
   "source": [
    "# Driver function \n",
    "import time\n",
    "t0 = time.time()\n",
    "for num in range(1,1000): \n",
    "    x = is_number_prime(num) \n",
    "t1 = time.time() \n",
    "print(\"Your function took this much time: \", t1 - t0)"
   ]
  },
  {
   "cell_type": "code",
   "execution_count": 73,
   "metadata": {},
   "outputs": [],
   "source": [
    "# Test function\n",
    "def test_number_prime(number): \n",
    "    if number < 2: \n",
    "        return False\n",
    "    for divisor in range(2, number): \n",
    "        if number % divisor == 0: \n",
    "            return False\n",
    "    return True\n"
   ]
  },
  {
   "cell_type": "markdown",
   "metadata": {},
   "source": [
    "*Test it with ```range(1,10000)```*"
   ]
  },
  {
   "cell_type": "code",
   "execution_count": 89,
   "metadata": {},
   "outputs": [
    {
     "name": "stdout",
     "output_type": "stream",
     "text": [
      "Your test without generators took: 29.035784244537354\n"
     ]
    }
   ],
   "source": [
    "# Test\n",
    "# Inspect primes, use generators for efficiency\n",
    "import time\n",
    "\n",
    "# t0 = time.time()\n",
    "# primes = (number for number in range(1,100000) if is_number_prime(number))\n",
    "# test_primes = (number for number in range(1,100000) if test_number_prime(number))\n",
    "# for prime in primes:\n",
    "#     assert prime == next(test_primes)\n",
    "# t1 = time.time() \n",
    "# # print(f\"Your test with generators took {t1 - t0}/s\")\n",
    "# print(f\"Your test with generators took:\", t1 - t0)\n",
    "\n",
    "\n",
    "t0 = time.time()\n",
    "primes = [number for number in range(1,100000) if is_number_prime(number)]\n",
    "test_primes = [number for number in range(1,100000) if test_number_prime(number)]\n",
    "\n",
    "for index, prime in enumerate(primes):\n",
    "    assert prime == test_primes[index]\n",
    "t1 = time.time() \n",
    "# print(f\"Your test without generators took {t1 - t0}/s\")\n",
    "print(f\"Your test without generators took:\", t1 - t0)"
   ]
  },
  {
   "cell_type": "code",
   "execution_count": null,
   "metadata": {},
   "outputs": [],
   "source": []
  },
  {
   "cell_type": "code",
   "execution_count": null,
   "metadata": {},
   "outputs": [],
   "source": []
  },
  {
   "cell_type": "code",
   "execution_count": null,
   "metadata": {},
   "outputs": [],
   "source": []
  },
  {
   "cell_type": "code",
   "execution_count": null,
   "metadata": {},
   "outputs": [],
   "source": []
  },
  {
   "cell_type": "code",
   "execution_count": null,
   "metadata": {},
   "outputs": [],
   "source": []
  },
  {
   "cell_type": "code",
   "execution_count": null,
   "metadata": {},
   "outputs": [],
   "source": []
  },
  {
   "cell_type": "code",
   "execution_count": null,
   "metadata": {},
   "outputs": [],
   "source": []
  }
 ],
 "metadata": {
  "kernelspec": {
   "display_name": "Python 3",
   "language": "python",
   "name": "python3"
  },
  "language_info": {
   "codemirror_mode": {
    "name": "ipython",
    "version": 3
   },
   "file_extension": ".py",
   "mimetype": "text/x-python",
   "name": "python",
   "nbconvert_exporter": "python",
   "pygments_lexer": "ipython3",
   "version": "3.8.1"
  }
 },
 "nbformat": 4,
 "nbformat_minor": 4
}
