{
 "cells": [
  {
   "cell_type": "markdown",
   "metadata": {},
   "source": [
    "# with_answers file"
   ]
  },
  {
   "cell_type": "markdown",
   "metadata": {},
   "source": [
    "*Here you will find the excercises and the answers in the exact same format as in the no_answers.ipynb file*"
   ]
  },
  {
   "cell_type": "markdown",
   "metadata": {},
   "source": [
    "## Lists"
   ]
  },
  {
   "cell_type": "markdown",
   "metadata": {},
   "source": [
    "## Dictionaries"
   ]
  },
  {
   "cell_type": "markdown",
   "metadata": {},
   "source": [
    "## Iteration"
   ]
  },
  {
   "cell_type": "markdown",
   "metadata": {},
   "source": [
    "#### Simple iteration with class"
   ]
  },
  {
   "cell_type": "markdown",
   "metadata": {},
   "source": [
    "Write a class that:\n",
    "- Does not take any input but has a list inside \\_\\_init\\_\\_\n",
    "- Divides the list of numbers into 3 and puts them in a new list\n",
    "- Prints the quotients as an integer in readable form\n",
    "- Outputs that list\n",
    "\n",
    "Use this list inside your class inside \\_\\_init\\_\\_:\n",
    "\n",
    "```numbers_divisible_by_three = [3, 6, 9, 12, 15]```"
   ]
  },
  {
   "cell_type": "code",
   "execution_count": 2,
   "metadata": {},
   "outputs": [],
   "source": [
    "# My answer\n",
    "class three_division:\n",
    "    def __init__(self):\n",
    "\n",
    "        self.numbers_divisible_by_three = [3, 6, 9, 12, 15]\n",
    "\n",
    "    def divide_self_list(self):\n",
    "        divided_list = []\n",
    "        for item in self.numbers_divisible_by_three:\n",
    "            if item % 3 == 0:\n",
    "                divided_list.append(item)\n",
    "                print(f\"Your divisible number is {int(item)}\")\n",
    "        return divided_list"
   ]
  },
  {
   "cell_type": "code",
   "execution_count": 3,
   "metadata": {},
   "outputs": [
    {
     "name": "stdout",
     "output_type": "stream",
     "text": [
      "Your divisible number is 3\n",
      "Your divisible number is 6\n",
      "Your divisible number is 9\n",
      "Your divisible number is 12\n",
      "Your divisible number is 15\n"
     ]
    }
   ],
   "source": [
    "# Test\n",
    "divisible_numbers = three_division().divide_self_list()\n",
    "assert len(divisible_numbers) == 5"
   ]
  },
  {
   "cell_type": "markdown",
   "metadata": {},
   "source": [
    "#### Iteration with range"
   ]
  },
  {
   "cell_type": "markdown",
   "metadata": {},
   "source": [
    "*Augment your previous class with the following:*\n",
    "- Create a number list containing only the numbers from 5 to 1,000\n",
    "that are divisible by 3 using ```range(start, end, step)```\n",
    "- The number list will have to be inverted this time ```reversed()```\n",
    "- Divides numbers into 3\n",
    "- Outputs the quotient as an integer in readable form\n",
    "\n",
    "*Notice that range starts from 0 when no start is provided.*\n",
    "\n",
    "*Also notice that range stops BEFORE the end number.*"
   ]
  },
  {
   "cell_type": "code",
   "execution_count": 4,
   "metadata": {},
   "outputs": [],
   "source": [
    "# My answer\n",
    "class three_division:\n",
    "    def __init__(self):\n",
    "        \n",
    "        # This is our old list just hanging out here for no reason\n",
    "        self.numbers_divisible_by_three = [3, 6, 9, 12, 15]\n",
    "\n",
    "    def divide_self_list(self):\n",
    "        divided_list = []\n",
    "        for item in self.numbers_divisible_by_three:\n",
    "            if item % 3 == 0:\n",
    "                divided_list.append(item)\n",
    "                print(f\"Your divisible number is {int(item)}\")\n",
    "        return divided_list\n",
    "\n",
    "    def divide_create_list(self, start=6, stop=1001, step=3):\n",
    "        \"\"\"Creates own list and finds divisible numbers\n",
    "        \"\"\"\n",
    "        divided_list = []\n",
    "        for item in reversed(range(start, stop, step)):  # Reverse list\n",
    "        # for item in range(3, 101, 3):\n",
    "            if item % 3 == 0:\n",
    "                print(f\"Your divisible number is {int(item)}\")\n",
    "                divided_list.append(item)\n",
    "        return divided_list"
   ]
  },
  {
   "cell_type": "code",
   "execution_count": 5,
   "metadata": {},
   "outputs": [
    {
     "name": "stdout",
     "output_type": "stream",
     "text": [
      "Your divisible number is 999\n",
      "Your divisible number is 996\n",
      "Your divisible number is 993\n",
      "Your divisible number is 990\n",
      "Your divisible number is 987\n",
      "Your divisible number is 984\n",
      "Your divisible number is 981\n",
      "Your divisible number is 978\n",
      "Your divisible number is 975\n",
      "Your divisible number is 972\n",
      "Your divisible number is 969\n",
      "Your divisible number is 966\n",
      "Your divisible number is 963\n",
      "Your divisible number is 960\n",
      "Your divisible number is 957\n",
      "Your divisible number is 954\n",
      "Your divisible number is 951\n",
      "Your divisible number is 948\n",
      "Your divisible number is 945\n",
      "Your divisible number is 942\n",
      "Your divisible number is 939\n",
      "Your divisible number is 936\n",
      "Your divisible number is 933\n",
      "Your divisible number is 930\n",
      "Your divisible number is 927\n",
      "Your divisible number is 924\n",
      "Your divisible number is 921\n",
      "Your divisible number is 918\n",
      "Your divisible number is 915\n",
      "Your divisible number is 912\n",
      "Your divisible number is 909\n",
      "Your divisible number is 906\n",
      "Your divisible number is 903\n",
      "Your divisible number is 900\n",
      "Your divisible number is 897\n",
      "Your divisible number is 894\n",
      "Your divisible number is 891\n",
      "Your divisible number is 888\n",
      "Your divisible number is 885\n",
      "Your divisible number is 882\n",
      "Your divisible number is 879\n",
      "Your divisible number is 876\n",
      "Your divisible number is 873\n",
      "Your divisible number is 870\n",
      "Your divisible number is 867\n",
      "Your divisible number is 864\n",
      "Your divisible number is 861\n",
      "Your divisible number is 858\n",
      "Your divisible number is 855\n",
      "Your divisible number is 852\n",
      "Your divisible number is 849\n",
      "Your divisible number is 846\n",
      "Your divisible number is 843\n",
      "Your divisible number is 840\n",
      "Your divisible number is 837\n",
      "Your divisible number is 834\n",
      "Your divisible number is 831\n",
      "Your divisible number is 828\n",
      "Your divisible number is 825\n",
      "Your divisible number is 822\n",
      "Your divisible number is 819\n",
      "Your divisible number is 816\n",
      "Your divisible number is 813\n",
      "Your divisible number is 810\n",
      "Your divisible number is 807\n",
      "Your divisible number is 804\n",
      "Your divisible number is 801\n",
      "Your divisible number is 798\n",
      "Your divisible number is 795\n",
      "Your divisible number is 792\n",
      "Your divisible number is 789\n",
      "Your divisible number is 786\n",
      "Your divisible number is 783\n",
      "Your divisible number is 780\n",
      "Your divisible number is 777\n",
      "Your divisible number is 774\n",
      "Your divisible number is 771\n",
      "Your divisible number is 768\n",
      "Your divisible number is 765\n",
      "Your divisible number is 762\n",
      "Your divisible number is 759\n",
      "Your divisible number is 756\n",
      "Your divisible number is 753\n",
      "Your divisible number is 750\n",
      "Your divisible number is 747\n",
      "Your divisible number is 744\n",
      "Your divisible number is 741\n",
      "Your divisible number is 738\n",
      "Your divisible number is 735\n",
      "Your divisible number is 732\n",
      "Your divisible number is 729\n",
      "Your divisible number is 726\n",
      "Your divisible number is 723\n",
      "Your divisible number is 720\n",
      "Your divisible number is 717\n",
      "Your divisible number is 714\n",
      "Your divisible number is 711\n",
      "Your divisible number is 708\n",
      "Your divisible number is 705\n",
      "Your divisible number is 702\n",
      "Your divisible number is 699\n",
      "Your divisible number is 696\n",
      "Your divisible number is 693\n",
      "Your divisible number is 690\n",
      "Your divisible number is 687\n",
      "Your divisible number is 684\n",
      "Your divisible number is 681\n",
      "Your divisible number is 678\n",
      "Your divisible number is 675\n",
      "Your divisible number is 672\n",
      "Your divisible number is 669\n",
      "Your divisible number is 666\n",
      "Your divisible number is 663\n",
      "Your divisible number is 660\n",
      "Your divisible number is 657\n",
      "Your divisible number is 654\n",
      "Your divisible number is 651\n",
      "Your divisible number is 648\n",
      "Your divisible number is 645\n",
      "Your divisible number is 642\n",
      "Your divisible number is 639\n",
      "Your divisible number is 636\n",
      "Your divisible number is 633\n",
      "Your divisible number is 630\n",
      "Your divisible number is 627\n",
      "Your divisible number is 624\n",
      "Your divisible number is 621\n",
      "Your divisible number is 618\n",
      "Your divisible number is 615\n",
      "Your divisible number is 612\n",
      "Your divisible number is 609\n",
      "Your divisible number is 606\n",
      "Your divisible number is 603\n",
      "Your divisible number is 600\n",
      "Your divisible number is 597\n",
      "Your divisible number is 594\n",
      "Your divisible number is 591\n",
      "Your divisible number is 588\n",
      "Your divisible number is 585\n",
      "Your divisible number is 582\n",
      "Your divisible number is 579\n",
      "Your divisible number is 576\n",
      "Your divisible number is 573\n",
      "Your divisible number is 570\n",
      "Your divisible number is 567\n",
      "Your divisible number is 564\n",
      "Your divisible number is 561\n",
      "Your divisible number is 558\n",
      "Your divisible number is 555\n",
      "Your divisible number is 552\n",
      "Your divisible number is 549\n",
      "Your divisible number is 546\n",
      "Your divisible number is 543\n",
      "Your divisible number is 540\n",
      "Your divisible number is 537\n",
      "Your divisible number is 534\n",
      "Your divisible number is 531\n",
      "Your divisible number is 528\n",
      "Your divisible number is 525\n",
      "Your divisible number is 522\n",
      "Your divisible number is 519\n",
      "Your divisible number is 516\n",
      "Your divisible number is 513\n",
      "Your divisible number is 510\n",
      "Your divisible number is 507\n",
      "Your divisible number is 504\n",
      "Your divisible number is 501\n",
      "Your divisible number is 498\n",
      "Your divisible number is 495\n",
      "Your divisible number is 492\n",
      "Your divisible number is 489\n",
      "Your divisible number is 486\n",
      "Your divisible number is 483\n",
      "Your divisible number is 480\n",
      "Your divisible number is 477\n",
      "Your divisible number is 474\n",
      "Your divisible number is 471\n",
      "Your divisible number is 468\n",
      "Your divisible number is 465\n",
      "Your divisible number is 462\n",
      "Your divisible number is 459\n",
      "Your divisible number is 456\n",
      "Your divisible number is 453\n",
      "Your divisible number is 450\n",
      "Your divisible number is 447\n",
      "Your divisible number is 444\n",
      "Your divisible number is 441\n",
      "Your divisible number is 438\n",
      "Your divisible number is 435\n",
      "Your divisible number is 432\n",
      "Your divisible number is 429\n",
      "Your divisible number is 426\n",
      "Your divisible number is 423\n",
      "Your divisible number is 420\n",
      "Your divisible number is 417\n",
      "Your divisible number is 414\n",
      "Your divisible number is 411\n",
      "Your divisible number is 408\n",
      "Your divisible number is 405\n",
      "Your divisible number is 402\n",
      "Your divisible number is 399\n",
      "Your divisible number is 396\n",
      "Your divisible number is 393\n",
      "Your divisible number is 390\n",
      "Your divisible number is 387\n",
      "Your divisible number is 384\n",
      "Your divisible number is 381\n",
      "Your divisible number is 378\n",
      "Your divisible number is 375\n",
      "Your divisible number is 372\n",
      "Your divisible number is 369\n",
      "Your divisible number is 366\n",
      "Your divisible number is 363\n",
      "Your divisible number is 360\n",
      "Your divisible number is 357\n",
      "Your divisible number is 354\n",
      "Your divisible number is 351\n",
      "Your divisible number is 348\n",
      "Your divisible number is 345\n",
      "Your divisible number is 342\n",
      "Your divisible number is 339\n",
      "Your divisible number is 336\n",
      "Your divisible number is 333\n",
      "Your divisible number is 330\n",
      "Your divisible number is 327\n",
      "Your divisible number is 324\n",
      "Your divisible number is 321\n",
      "Your divisible number is 318\n",
      "Your divisible number is 315\n",
      "Your divisible number is 312\n",
      "Your divisible number is 309\n",
      "Your divisible number is 306\n",
      "Your divisible number is 303\n",
      "Your divisible number is 300\n",
      "Your divisible number is 297\n",
      "Your divisible number is 294\n",
      "Your divisible number is 291\n",
      "Your divisible number is 288\n",
      "Your divisible number is 285\n",
      "Your divisible number is 282\n",
      "Your divisible number is 279\n",
      "Your divisible number is 276\n",
      "Your divisible number is 273\n",
      "Your divisible number is 270\n",
      "Your divisible number is 267\n",
      "Your divisible number is 264\n",
      "Your divisible number is 261\n",
      "Your divisible number is 258\n",
      "Your divisible number is 255\n",
      "Your divisible number is 252\n",
      "Your divisible number is 249\n",
      "Your divisible number is 246\n",
      "Your divisible number is 243\n",
      "Your divisible number is 240\n",
      "Your divisible number is 237\n",
      "Your divisible number is 234\n",
      "Your divisible number is 231\n",
      "Your divisible number is 228\n",
      "Your divisible number is 225\n",
      "Your divisible number is 222\n",
      "Your divisible number is 219\n",
      "Your divisible number is 216\n",
      "Your divisible number is 213\n",
      "Your divisible number is 210\n",
      "Your divisible number is 207\n",
      "Your divisible number is 204\n",
      "Your divisible number is 201\n",
      "Your divisible number is 198\n",
      "Your divisible number is 195\n",
      "Your divisible number is 192\n",
      "Your divisible number is 189\n",
      "Your divisible number is 186\n",
      "Your divisible number is 183\n",
      "Your divisible number is 180\n",
      "Your divisible number is 177\n",
      "Your divisible number is 174\n",
      "Your divisible number is 171\n",
      "Your divisible number is 168\n",
      "Your divisible number is 165\n",
      "Your divisible number is 162\n",
      "Your divisible number is 159\n",
      "Your divisible number is 156\n",
      "Your divisible number is 153\n",
      "Your divisible number is 150\n",
      "Your divisible number is 147\n",
      "Your divisible number is 144\n",
      "Your divisible number is 141\n",
      "Your divisible number is 138\n",
      "Your divisible number is 135\n",
      "Your divisible number is 132\n",
      "Your divisible number is 129\n",
      "Your divisible number is 126\n",
      "Your divisible number is 123\n",
      "Your divisible number is 120\n",
      "Your divisible number is 117\n",
      "Your divisible number is 114\n",
      "Your divisible number is 111\n",
      "Your divisible number is 108\n",
      "Your divisible number is 105\n",
      "Your divisible number is 102\n",
      "Your divisible number is 99\n",
      "Your divisible number is 96\n",
      "Your divisible number is 93\n",
      "Your divisible number is 90\n",
      "Your divisible number is 87\n",
      "Your divisible number is 84\n",
      "Your divisible number is 81\n",
      "Your divisible number is 78\n",
      "Your divisible number is 75\n",
      "Your divisible number is 72\n",
      "Your divisible number is 69\n",
      "Your divisible number is 66\n",
      "Your divisible number is 63\n",
      "Your divisible number is 60\n",
      "Your divisible number is 57\n",
      "Your divisible number is 54\n",
      "Your divisible number is 51\n",
      "Your divisible number is 48\n",
      "Your divisible number is 45\n",
      "Your divisible number is 42\n",
      "Your divisible number is 39\n",
      "Your divisible number is 36\n",
      "Your divisible number is 33\n",
      "Your divisible number is 30\n",
      "Your divisible number is 27\n",
      "Your divisible number is 24\n",
      "Your divisible number is 21\n",
      "Your divisible number is 18\n",
      "Your divisible number is 15\n",
      "Your divisible number is 12\n",
      "Your divisible number is 9\n",
      "Your divisible number is 6\n"
     ]
    }
   ],
   "source": [
    "# Test\n",
    "divisible_numbers = three_division().divide_create_list()\n",
    "assert len(divisible_numbers) == 332"
   ]
  },
  {
   "cell_type": "markdown",
   "metadata": {},
   "source": [
    "#### Iteration with numpy for floats"
   ]
  },
  {
   "cell_type": "markdown",
   "metadata": {},
   "source": [
    "*```range()``` will only work for integer numbers*\n",
    "*Augment your previous class to use numpy as instructed:*\n",
    "- Division of numbers into 3.3\n",
    "- Outputs the quotient as a rounded float to 2 digits ```round()```\n",
    "in readable form.\n",
    "- Create the number list yourself with numbers from 0 to 1,000\n",
    "that are divisible by 3.3. numpy + range = ```np.arange()```, but\n",
    "may contain floating point errors.\n",
    "\n",
    "*Notice that all floats are rounded unless you use sth like\n",
    "the decimal library.*\n",
    "\n",
    "Alternatively, you could also use ```np.linspace()```. It does essentially\n",
    "the same thing but uses different parameters. With ```np.linspace()```,\n",
    "you specify start and end (both inclusive) as well as the length of\n",
    "the array (instead of step).\""
   ]
  },
  {
   "cell_type": "code",
   "execution_count": 6,
   "metadata": {},
   "outputs": [],
   "source": [
    "# My answer\n",
    "class three_division:\n",
    "    def __init__(self):\n",
    "        self._numbers_divisible_by_three = [3, 6, 9, 12, 15]\n",
    "        \n",
    "    def divide_self_list(self):\n",
    "        divided_list = []\n",
    "        for item in self._numbers_divisible_by_three:\n",
    "            if item % 3 == 0:\n",
    "                print(f\"Your divisible number is {int(item)}\")\n",
    "                divided_list.append(item)\n",
    "        return divided_list\n",
    "    \n",
    "    def divide_create_int_list(self, start=6, stop=1001, step=3):\n",
    "        divided_list = []\n",
    "        for item in range(start, stop, step):\n",
    "            if item % 3 == 0:\n",
    "                print(f\"Your divisible number is {int(item)}\")\n",
    "                divided_list.append(item)\n",
    "        return divided_list\n",
    "    \n",
    "    def divide_create_float_list(self, start=3.3, stop=1000, step=3.3):\n",
    "        import numpy as np\n",
    "        divided_list = []\n",
    "        for item in np.arange(start, stop, step):\n",
    "            if item % 3.3 == 0:\n",
    "                print(f\"Your divisible float is {item}\")\n",
    "                divided_list.append(item)\n",
    "        return divided_list\n",
    "        \n",
    "    def divide_create_float_linspace(self, start=3.3, stop=1000, samples=100000):\n",
    "        import numpy as np\n",
    "        divided_list = []\n",
    "        for item in reversed(np.linspace(start, stop, samples)):\n",
    "            item = round(item, 2)\n",
    "            if item % 3.3 == 0:\n",
    "                print(f\"Your divisible float is {item}\")\n",
    "                divided_list.append(item)\n",
    "        return divided_list"
   ]
  },
  {
   "cell_type": "code",
   "execution_count": 7,
   "metadata": {},
   "outputs": [
    {
     "name": "stdout",
     "output_type": "stream",
     "text": [
      "Your divisible float is 844.8\n",
      "Your divisible float is 422.4\n",
      "Your divisible float is 211.2\n",
      "Your divisible float is 105.6\n",
      "Your divisible float is 52.8\n",
      "Your divisible float is 26.4\n",
      "Your divisible float is 13.2\n",
      "Your divisible float is 6.6\n",
      "Your divisible float is 3.3\n"
     ]
    }
   ],
   "source": [
    "# Tests\n",
    "# divisible_numbers = three_division().divide_create_float_list()\n",
    "# assert len(divisible_numbers) == 9  # This is caused by the floating point error\n",
    "\n",
    "# This method works well on my machine but doesn't here... Might fix it later.\n",
    "divisible_numbers = three_division().divide_create_float_linspace()\n",
    "# assert len(divisible_numbers) == 9  # This number may differ depending on settings cuz #round()"
   ]
  },
  {
   "cell_type": "code",
   "execution_count": 8,
   "metadata": {},
   "outputs": [],
   "source": [
    "#### Class decorators: properties and setters"
   ]
  },
  {
   "cell_type": "code",
   "execution_count": 9,
   "metadata": {},
   "outputs": [],
   "source": [
    "# My answer\n",
    "class three_division:\n",
    "    def __init__(self):\n",
    "\n",
    "        self._numbers_divisible_by_three = [3, 6, 9, 12, 15]\n",
    "\n",
    "    # Return set list\n",
    "    @property\n",
    "    def div_list(self):\n",
    "        return self._numbers_divisible_by_three\n",
    "\n",
    "    # Set new list\n",
    "    @div_list.setter\n",
    "    def div_list(self, values:list):\n",
    "        self._numbers_divisible_by_three = values\n",
    "\n",
    "    def divide_self_list(self):\n",
    "        divided_list = []\n",
    "        for item in self._numbers_divisible_by_three:\n",
    "            if item % 3 == 0:\n",
    "                print(f\"Your divisible number is {int(item)}\")\n",
    "                divided_list.append(item)\n",
    "        return divided_list\n",
    "    \n",
    "    def divide_create_int_list(self, start=6, stop=1001, step=3):\n",
    "        divided_list = []\n",
    "        for item in range(start, stop, step):\n",
    "            if item % 3 == 0:\n",
    "                print(f\"Your divisible number is {int(item)}\")\n",
    "                divided_list.append(item)\n",
    "        return divided_list\n",
    "    \n",
    "    def divide_create_float_list(self, start=3.3, stop=1000, step=3.3):\n",
    "        import numpy as np\n",
    "        divided_list = []\n",
    "        for item in np.arange(start, stop, step):\n",
    "            if item % 3.3 == 0:\n",
    "                print(f\"Your divisible float is {item}\")\n",
    "                divided_list.append(item)\n",
    "        return divided_list\n",
    "        \n",
    "    def divide_create_float_linspace(self, start=3.3, stop=1000, samples=100000):\n",
    "        import numpy as np\n",
    "        divided_list = []\n",
    "        for item in reversed(np.linspace(start, stop, samples)):\n",
    "            item = round(item, 2)\n",
    "            if item % 3.3 == 0:\n",
    "                print(f\"Your divisible float is {item}\")\n",
    "                divided_list.append(item)\n",
    "        return divided_list"
   ]
  },
  {
   "cell_type": "code",
   "execution_count": null,
   "metadata": {},
   "outputs": [],
   "source": [
    "# default list\n",
    "print(three_division().div_list)\n",
    "# add custom list\n",
    "x = three_division()\n",
    "x.div_list = [1,2,3,16]\n",
    "print(x.div_list)"
   ]
  },
  {
   "cell_type": "markdown",
   "metadata": {},
   "source": [
    "### Iteration with enumerate"
   ]
  },
  {
   "cell_type": "markdown",
   "metadata": {},
   "source": [
    "#### Fizz Buzz"
   ]
  },
  {
   "cell_type": "markdown",
   "metadata": {},
   "source": [
    "*Write a function that:*\n",
    "- Replaces all integers divided by 5 with fizz\n",
    "- Replaces all integers divisible by 3 with buzz\n",
    "\n",
    "*be careful with: the `and` keyword*\n",
    "*be careful with: return values in functions*\n",
    "Use the following list and replace all values in it:\n",
    "```numbers = list(range(1,51))````"
   ]
  },
  {
   "cell_type": "code",
   "execution_count": 11,
   "metadata": {},
   "outputs": [],
   "source": [
    "numbers = list(range(1,51))"
   ]
  },
  {
   "cell_type": "code",
   "execution_count": 12,
   "metadata": {},
   "outputs": [
    {
     "name": "stdout",
     "output_type": "stream",
     "text": [
      "[1, 2, 'buzz', 4, 'fizz', 'buzz', 7, 8, 'buzz', 'fizz', 11, 'buzz', 13, 14, 'fizzbuzz', 16, 17, 'buzz', 19, 'fizz', 'buzz', 22, 23, 'buzz', 'fizz', 26, 'buzz', 28, 29, 'fizzbuzz', 31, 32, 'buzz', 34, 'fizz', 'buzz', 37, 38, 'buzz', 'fizz', 41, 'buzz', 43, 44, 'fizzbuzz', 46, 47, 'buzz', 49, 'fizz']\n"
     ]
    }
   ],
   "source": [
    "# My answer\n",
    "def fizzbuzz(number:int):\n",
    "    if number % 5 == 0 and number % 3 == 0:\n",
    "        return 'fizzbuzz'\n",
    "    elif number % 5 ==0:\n",
    "        return 'fizz'\n",
    "    elif number % 3 ==0:\n",
    "        return 'buzz'\n",
    "    else:\n",
    "        return number\n",
    "\n",
    "for index, item in enumerate(numbers):\n",
    "    numbers[index] = fizzbuzz(item)\n",
    "print(numbers)"
   ]
  },
  {
   "cell_type": "markdown",
   "metadata": {},
   "source": [
    "#### Maps and filters"
   ]
  },
  {
   "cell_type": "markdown",
   "metadata": {},
   "source": [
    "*You are given a function and an input. Map the output to a list.*"
   ]
  },
  {
   "cell_type": "code",
   "execution_count": 1,
   "metadata": {},
   "outputs": [],
   "source": [
    "in_sound = ['AƩ','AZ','AR','AT','AƷ','AP','AS','AD','AF','AG','AH','AJ','AK']"
   ]
  },
  {
   "cell_type": "code",
   "execution_count": 3,
   "metadata": {},
   "outputs": [
    {
     "name": "stdout",
     "output_type": "stream",
     "text": [
      "You mapping is:\n",
      " ['aʃ', 'az', 'ar', 'at', 'aʒ', 'ap', 'as', 'ad', 'af', 'ag', 'ah', 'aj', 'ak']\n",
      "You mapping with list comprehension is:\n",
      " ['aʃ', 'az', 'ar', 'at', 'aʒ', 'ap', 'as', 'ad', 'af', 'ag', 'ah', 'aj', 'ak']\n"
     ]
    }
   ],
   "source": [
    "def lowercase_word(word):\n",
    "    return word.lower()\n",
    "\n",
    "out_sound = list(map(lowercase_word, in_sound))\n",
    "out_sound_listcomp = [lowercase_word(sound) for sound in in_sound]\n",
    "print(f\"You mapping is:\\n {out_sound}\")\n",
    "print(f\"You mapping with list comprehension is:\\n {out_sound_listcomp}\")"
   ]
  },
  {
   "cell_type": "markdown",
   "metadata": {},
   "source": [
    "*You are given a function and an input. Filter the output to a list.*"
   ]
  },
  {
   "cell_type": "code",
   "execution_count": 5,
   "metadata": {},
   "outputs": [],
   "source": [
    "in_sound = ['aʃ','az','ar','at','aʒ','ap','as','ad','af','ag','ah','aj','ak']"
   ]
  },
  {
   "cell_type": "code",
   "execution_count": 6,
   "metadata": {},
   "outputs": [
    {
     "name": "stdout",
     "output_type": "stream",
     "text": [
      "You filtering is:\n",
      " ['ar', 'at', 'ap', 'ad', 'af', 'ag', 'ah', 'aj', 'ak']\n",
      "You filtering with list comprehension is:\n",
      " ['ar', 'at', 'ap', 'ad', 'af', 'ag', 'ah', 'aj', 'ak']\n"
     ]
    }
   ],
   "source": [
    "def is_ending_minus_sibilant(string):\n",
    "    if string.endswith('s') or string.endswith('ʃ') or string.endswith('z') \\\n",
    "        or string.endswith('ʒ'):\n",
    "        return False\n",
    "    return True\n",
    "\n",
    "not_sibilant_sounds = list(filter(is_ending_minus_sibilant, in_sound))\n",
    "not_sibilant_sounds_listcomp = [item for item in in_sound if is_ending_minus_sibilant(item)]\n",
    "\n",
    "print(f\"You filtering is:\\n {not_sibilant_sounds}\")\n",
    "print(f\"You filtering with list comprehension is:\\n {not_sibilant_sounds_listcomp}\")\n",
    "\n",
    "# print(f\"You mapping is:\\n {not_sibilant_sounds})\n",
    "# print(f\"You mapping is:\\n {not_sibilant_sounds})\n",
    "# print(f\"You mapping with list comprehension is:\\n {not_sibilant_sounds}\")\n",
    "      "
   ]
  },
  {
   "cell_type": "code",
   "execution_count": null,
   "metadata": {},
   "outputs": [],
   "source": []
  },
  {
   "cell_type": "code",
   "execution_count": null,
   "metadata": {},
   "outputs": [],
   "source": []
  },
  {
   "cell_type": "code",
   "execution_count": null,
   "metadata": {},
   "outputs": [],
   "source": []
  },
  {
   "cell_type": "code",
   "execution_count": null,
   "metadata": {},
   "outputs": [],
   "source": []
  },
  {
   "cell_type": "code",
   "execution_count": null,
   "metadata": {},
   "outputs": [],
   "source": []
  },
  {
   "cell_type": "code",
   "execution_count": null,
   "metadata": {},
   "outputs": [],
   "source": []
  },
  {
   "cell_type": "code",
   "execution_count": null,
   "metadata": {},
   "outputs": [],
   "source": []
  },
  {
   "cell_type": "code",
   "execution_count": null,
   "metadata": {},
   "outputs": [],
   "source": []
  },
  {
   "cell_type": "code",
   "execution_count": null,
   "metadata": {},
   "outputs": [],
   "source": []
  },
  {
   "cell_type": "code",
   "execution_count": null,
   "metadata": {},
   "outputs": [],
   "source": []
  },
  {
   "cell_type": "code",
   "execution_count": null,
   "metadata": {},
   "outputs": [],
   "source": []
  },
  {
   "cell_type": "code",
   "execution_count": null,
   "metadata": {},
   "outputs": [],
   "source": []
  },
  {
   "cell_type": "code",
   "execution_count": null,
   "metadata": {},
   "outputs": [],
   "source": []
  },
  {
   "cell_type": "code",
   "execution_count": null,
   "metadata": {},
   "outputs": [],
   "source": []
  },
  {
   "cell_type": "code",
   "execution_count": null,
   "metadata": {},
   "outputs": [],
   "source": []
  },
  {
   "cell_type": "code",
   "execution_count": null,
   "metadata": {},
   "outputs": [],
   "source": []
  },
  {
   "cell_type": "markdown",
   "metadata": {},
   "source": [
    "## Fun with recursion"
   ]
  },
  {
   "cell_type": "markdown",
   "metadata": {},
   "source": [
    "#### Recursion and primes, naïve approach"
   ]
  },
  {
   "cell_type": "markdown",
   "metadata": {},
   "source": [
    "*Write a recursive function that tests for prime numbers by checking all divisors. A non-recursive example is shown below:*"
   ]
  },
  {
   "cell_type": "code",
   "execution_count": 99,
   "metadata": {},
   "outputs": [
    {
     "data": {
      "text/plain": [
       "True"
      ]
     },
     "execution_count": 99,
     "metadata": {},
     "output_type": "execute_result"
    }
   ],
   "source": [
    "# Non-recursive example:\n",
    "def is_number_prime(number): \n",
    "    if number < 2: \n",
    "        return False\n",
    "    for divisor in range(2, number): \n",
    "        if number % divisor == 0: \n",
    "            return False\n",
    "    return True\n",
    "is_number_prime(2)"
   ]
  },
  {
   "cell_type": "code",
   "execution_count": 114,
   "metadata": {},
   "outputs": [
    {
     "data": {
      "text/plain": [
       "True"
      ]
     },
     "execution_count": 114,
     "metadata": {},
     "output_type": "execute_result"
    }
   ],
   "source": [
    "# My answer\n",
    "def is_number_prime(number, divisor=None):\n",
    "    if number < 2:\n",
    "        return False\n",
    "    if  not divisor:\n",
    "      divisor = number -1\n",
    "    if divisor == 1:\n",
    "        return True\n",
    "    if number % divisor == 0:\n",
    "        return False\n",
    "    else:\n",
    "      divisor = divisor -1\n",
    "      return is_number_prime(number,divisor)\n",
    "is_number_prime(2)"
   ]
  },
  {
   "cell_type": "code",
   "execution_count": 115,
   "metadata": {},
   "outputs": [],
   "source": [
    "# Tests\n",
    "assert is_number_prime(2) == True\n",
    "assert is_number_prime(7) == True\n",
    "assert is_number_prime(13) == True\n",
    "assert is_number_prime(29) == True\n",
    "assert is_number_prime(53) == True"
   ]
  },
  {
   "cell_type": "code",
   "execution_count": 116,
   "metadata": {},
   "outputs": [
    {
     "name": "stdout",
     "output_type": "stream",
     "text": [
      "Your function took this much time:  0.09654879570007324\n"
     ]
    }
   ],
   "source": [
    "# Driver function \n",
    "import time\n",
    "t0 = time.time()\n",
    "for num in range(1,1000): \n",
    "    x = is_number_prime(num) \n",
    "t1 = time.time() \n",
    "print(\"Your function took this much time: \", t1 - t0)"
   ]
  },
  {
   "cell_type": "code",
   "execution_count": 78,
   "metadata": {},
   "outputs": [
    {
     "name": "stdout",
     "output_type": "stream",
     "text": [
      "Pass from 1-1,000:\n",
      " [(1, True), (2, True), (3, True), (4, False), (5, True), (6, False), (7, True), (8, False), (9, False), (10, False), (11, True), (12, False), (13, True), (14, False), (15, False), (16, False), (17, True), (18, False), (19, True), (20, False), (21, False), (22, False), (23, True), (24, False), (25, False), (26, False), (27, False), (28, False), (29, True), (30, False), (31, True), (32, False), (33, False), (34, False), (35, False), (36, False), (37, True), (38, False), (39, False), (40, False), (41, True), (42, False), (43, True), (44, False), (45, False), (46, False), (47, True), (48, False), (49, False), (50, False), (51, False), (52, False), (53, True), (54, False), (55, False), (56, False), (57, False), (58, False), (59, True), (60, False), (61, True), (62, False), (63, False), (64, False), (65, False), (66, False), (67, True), (68, False), (69, False), (70, False), (71, True), (72, False), (73, True), (74, False), (75, False), (76, False), (77, False), (78, False), (79, True), (80, False), (81, False), (82, False), (83, True), (84, False), (85, False), (86, False), (87, False), (88, False), (89, True), (90, False), (91, False), (92, False), (93, False), (94, False), (95, False), (96, False), (97, True), (98, False), (99, False), (100, False), (101, True), (102, False), (103, True), (104, False), (105, False), (106, False), (107, True), (108, False), (109, True), (110, False), (111, False), (112, False), (113, True), (114, False), (115, False), (116, False), (117, False), (118, False), (119, False), (120, False), (121, False), (122, False), (123, False), (124, False), (125, False), (126, False), (127, True), (128, False), (129, False), (130, False), (131, True), (132, False), (133, False), (134, False), (135, False), (136, False), (137, True), (138, False), (139, True), (140, False), (141, False), (142, False), (143, False), (144, False), (145, False), (146, False), (147, False), (148, False), (149, True), (150, False), (151, True), (152, False), (153, False), (154, False), (155, False), (156, False), (157, True), (158, False), (159, False), (160, False), (161, False), (162, False), (163, True), (164, False), (165, False), (166, False), (167, True), (168, False), (169, False), (170, False), (171, False), (172, False), (173, True), (174, False), (175, False), (176, False), (177, False), (178, False), (179, True), (180, False), (181, True), (182, False), (183, False), (184, False), (185, False), (186, False), (187, False), (188, False), (189, False), (190, False), (191, True), (192, False), (193, True), (194, False), (195, False), (196, False), (197, True), (198, False), (199, True), (200, False), (201, False), (202, False), (203, False), (204, False), (205, False), (206, False), (207, False), (208, False), (209, False), (210, False), (211, True), (212, False), (213, False), (214, False), (215, False), (216, False), (217, False), (218, False), (219, False), (220, False), (221, False), (222, False), (223, True), (224, False), (225, False), (226, False), (227, True), (228, False), (229, True), (230, False), (231, False), (232, False), (233, True), (234, False), (235, False), (236, False), (237, False), (238, False), (239, True), (240, False), (241, True), (242, False), (243, False), (244, False), (245, False), (246, False), (247, False), (248, False), (249, False), (250, False), (251, True), (252, False), (253, False), (254, False), (255, False), (256, False), (257, True), (258, False), (259, False), (260, False), (261, False), (262, False), (263, True), (264, False), (265, False), (266, False), (267, False), (268, False), (269, True), (270, False), (271, True), (272, False), (273, False), (274, False), (275, False), (276, False), (277, True), (278, False), (279, False), (280, False), (281, True), (282, False), (283, True), (284, False), (285, False), (286, False), (287, False), (288, False), (289, False), (290, False), (291, False), (292, False), (293, True), (294, False), (295, False), (296, False), (297, False), (298, False), (299, False), (300, False), (301, False), (302, False), (303, False), (304, False), (305, False), (306, False), (307, True), (308, False), (309, False), (310, False), (311, True), (312, False), (313, True), (314, False), (315, False), (316, False), (317, True), (318, False), (319, False), (320, False), (321, False), (322, False), (323, False), (324, False), (325, False), (326, False), (327, False), (328, False), (329, False), (330, False), (331, True), (332, False), (333, False), (334, False), (335, False), (336, False), (337, True), (338, False), (339, False), (340, False), (341, False), (342, False), (343, False), (344, False), (345, False), (346, False), (347, True), (348, False), (349, True), (350, False), (351, False), (352, False), (353, True), (354, False), (355, False), (356, False), (357, False), (358, False), (359, True), (360, False), (361, False), (362, False), (363, False), (364, False), (365, False), (366, False), (367, True), (368, False), (369, False), (370, False), (371, False), (372, False), (373, True), (374, False), (375, False), (376, False), (377, False), (378, False), (379, True), (380, False), (381, False), (382, False), (383, True), (384, False), (385, False), (386, False), (387, False), (388, False), (389, True), (390, False), (391, False), (392, False), (393, False), (394, False), (395, False), (396, False), (397, True), (398, False), (399, False), (400, False), (401, True), (402, False), (403, False), (404, False), (405, False), (406, False), (407, False), (408, False), (409, True), (410, False), (411, False), (412, False), (413, False), (414, False), (415, False), (416, False), (417, False), (418, False), (419, True), (420, False), (421, True), (422, False), (423, False), (424, False), (425, False), (426, False), (427, False), (428, False), (429, False), (430, False), (431, True), (432, False), (433, True), (434, False), (435, False), (436, False), (437, False), (438, False), (439, True), (440, False), (441, False), (442, False), (443, True), (444, False), (445, False), (446, False), (447, False), (448, False), (449, True), (450, False), (451, False), (452, False), (453, False), (454, False), (455, False), (456, False), (457, True), (458, False), (459, False), (460, False), (461, True), (462, False), (463, True), (464, False), (465, False), (466, False), (467, True), (468, False), (469, False), (470, False), (471, False), (472, False), (473, False), (474, False), (475, False), (476, False), (477, False), (478, False), (479, True), (480, False), (481, False), (482, False), (483, False), (484, False), (485, False), (486, False), (487, True), (488, False), (489, False), (490, False), (491, True), (492, False), (493, False), (494, False), (495, False), (496, False), (497, False), (498, False), (499, True), (500, False), (501, False), (502, False), (503, True), (504, False), (505, False), (506, False), (507, False), (508, False), (509, True), (510, False), (511, False), (512, False), (513, False), (514, False), (515, False), (516, False), (517, False), (518, False), (519, False), (520, False), (521, True), (522, False), (523, True), (524, False), (525, False), (526, False), (527, False), (528, False), (529, False), (530, False), (531, False), (532, False), (533, False), (534, False), (535, False), (536, False), (537, False), (538, False), (539, False), (540, False), (541, True), (542, False), (543, False), (544, False), (545, False), (546, False), (547, True), (548, False), (549, False), (550, False), (551, False), (552, False), (553, False), (554, False), (555, False), (556, False), (557, True), (558, False), (559, False), (560, False), (561, False), (562, False), (563, True), (564, False), (565, False), (566, False), (567, False), (568, False), (569, True), (570, False), (571, True), (572, False), (573, False), (574, False), (575, False), (576, False), (577, True), (578, False), (579, False), (580, False), (581, False), (582, False), (583, False), (584, False), (585, False), (586, False), (587, True), (588, False), (589, False), (590, False), (591, False), (592, False), (593, True), (594, False), (595, False), (596, False), (597, False), (598, False), (599, True), (600, False), (601, True), (602, False), (603, False), (604, False), (605, False), (606, False), (607, True), (608, False), (609, False), (610, False), (611, False), (612, False), (613, True), (614, False), (615, False), (616, False), (617, True), (618, False), (619, True), (620, False), (621, False), (622, False), (623, False), (624, False), (625, False), (626, False), (627, False), (628, False), (629, False), (630, False), (631, True), (632, False), (633, False), (634, False), (635, False), (636, False), (637, False), (638, False), (639, False), (640, False), (641, True), (642, False), (643, True), (644, False), (645, False), (646, False), (647, True), (648, False), (649, False), (650, False), (651, False), (652, False), (653, True), (654, False), (655, False), (656, False), (657, False), (658, False), (659, True), (660, False), (661, True), (662, False), (663, False), (664, False), (665, False), (666, False), (667, False), (668, False), (669, False), (670, False), (671, False), (672, False), (673, True), (674, False), (675, False), (676, False), (677, True), (678, False), (679, False), (680, False), (681, False), (682, False), (683, True), (684, False), (685, False), (686, False), (687, False), (688, False), (689, False), (690, False), (691, True), (692, False), (693, False), (694, False), (695, False), (696, False), (697, False), (698, False), (699, False), (700, False), (701, True), (702, False), (703, False), (704, False), (705, False), (706, False), (707, False), (708, False), (709, True), (710, False), (711, False), (712, False), (713, False), (714, False), (715, False), (716, False), (717, False), (718, False), (719, True), (720, False), (721, False), (722, False), (723, False), (724, False), (725, False), (726, False), (727, True), (728, False), (729, False), (730, False), (731, False), (732, False), (733, True), (734, False), (735, False), (736, False), (737, False), (738, False), (739, True), (740, False), (741, False), (742, False), (743, True), (744, False), (745, False), (746, False), (747, False), (748, False), (749, False), (750, False), (751, True), (752, False), (753, False), (754, False), (755, False), (756, False), (757, True), (758, False), (759, False), (760, False), (761, True), (762, False), (763, False), (764, False), (765, False), (766, False), (767, False), (768, False), (769, True), (770, False), (771, False), (772, False), (773, True), (774, False), (775, False), (776, False), (777, False), (778, False), (779, False), (780, False), (781, False), (782, False), (783, False), (784, False), (785, False), (786, False), (787, True), (788, False), (789, False), (790, False), (791, False), (792, False), (793, False), (794, False), (795, False), (796, False), (797, True), (798, False), (799, False), (800, False), (801, False), (802, False), (803, False), (804, False), (805, False), (806, False), (807, False), (808, False), (809, True), (810, False), (811, True), (812, False), (813, False), (814, False), (815, False), (816, False), (817, False), (818, False), (819, False), (820, False), (821, True), (822, False), (823, True), (824, False), (825, False), (826, False), (827, True), (828, False), (829, True), (830, False), (831, False), (832, False), (833, False), (834, False), (835, False), (836, False), (837, False), (838, False), (839, True), (840, False), (841, False), (842, False), (843, False), (844, False), (845, False), (846, False), (847, False), (848, False), (849, False), (850, False), (851, False), (852, False), (853, True), (854, False), (855, False), (856, False), (857, True), (858, False), (859, True), (860, False), (861, False), (862, False), (863, True), (864, False), (865, False), (866, False), (867, False), (868, False), (869, False), (870, False), (871, False), (872, False), (873, False), (874, False), (875, False), (876, False), (877, True), (878, False), (879, False), (880, False), (881, True), (882, False), (883, True), (884, False), (885, False), (886, False), (887, True), (888, False), (889, False), (890, False), (891, False), (892, False), (893, False), (894, False), (895, False), (896, False), (897, False), (898, False), (899, False), (900, False), (901, False), (902, False), (903, False), (904, False), (905, False), (906, False), (907, True), (908, False), (909, False), (910, False), (911, True), (912, False), (913, False), (914, False), (915, False), (916, False), (917, False), (918, False), (919, True), (920, False), (921, False), (922, False), (923, False), (924, False), (925, False), (926, False), (927, False), (928, False), (929, True), (930, False), (931, False), (932, False), (933, False), (934, False), (935, False), (936, False), (937, True), (938, False), (939, False), (940, False), (941, True), (942, False), (943, False), (944, False), (945, False), (946, False), (947, True), (948, False), (949, False), (950, False), (951, False), (952, False), (953, True), (954, False), (955, False), (956, False), (957, False), (958, False), (959, False), (960, False), (961, False), (962, False), (963, False), (964, False), (965, False), (966, False), (967, True), (968, False), (969, False), (970, False), (971, True), (972, False), (973, False), (974, False), (975, False), (976, False), (977, True), (978, False), (979, False), (980, False), (981, False), (982, False), (983, True), (984, False), (985, False), (986, False), (987, False), (988, False), (989, False), (990, False), (991, True), (992, False), (993, False), (994, False), (995, False), (996, False), (997, True), (998, False), (999, False)]\n"
     ]
    }
   ],
   "source": [
    "# Inspect primes\n",
    "primes = []\n",
    "for num in range(1,1000): \n",
    "    x = is_number_prime(num) \n",
    "    primes.append((num,x))\n",
    "print(\"Pass from 1-1,000:\\n\", primes) "
   ]
  },
  {
   "cell_type": "markdown",
   "metadata": {},
   "source": [
    "#### Recursion and primes, discard pair values"
   ]
  },
  {
   "cell_type": "markdown",
   "metadata": {},
   "source": [
    "*Write a recursive function that tests for prime numbers by discarding all pairs first*\n"
   ]
  },
  {
   "cell_type": "code",
   "execution_count": 120,
   "metadata": {},
   "outputs": [
    {
     "data": {
      "text/plain": [
       "True"
      ]
     },
     "execution_count": 120,
     "metadata": {},
     "output_type": "execute_result"
    }
   ],
   "source": [
    "# My answer\n",
    "def is_number_prime(number, divisor=None):\n",
    "    if not divisor:\n",
    "        divisor = number -1\n",
    "    if divisor == 1:  # Get 2 right off the bat\n",
    "        return True\n",
    "\n",
    "    if number < 2 or number % 2 == 0:\n",
    "        return False\n",
    "\n",
    "    if number % divisor == 0:\n",
    "        return False\n",
    "    else:\n",
    "        divisor = divisor -1\n",
    "        return is_number_prime(number,divisor)\n",
    "is_number_prime(2)"
   ]
  },
  {
   "cell_type": "code",
   "execution_count": 112,
   "metadata": {},
   "outputs": [],
   "source": [
    "# Tests\n",
    "assert is_number_prime(4) == False  # I'm skipping over some pairs, FIX\n",
    "assert is_number_prime(2) == True\n",
    "assert is_number_prime(7) == True\n",
    "assert is_number_prime(13) == True\n",
    "assert is_number_prime(29) == True\n",
    "assert is_number_prime(53) == True"
   ]
  },
  {
   "cell_type": "code",
   "execution_count": 117,
   "metadata": {},
   "outputs": [
    {
     "name": "stdout",
     "output_type": "stream",
     "text": [
      "Your function took this much time:  0.0839850902557373\n"
     ]
    }
   ],
   "source": [
    "# Driver function \n",
    "import time\n",
    "t0 = time.time()\n",
    "for num in range(1,1000): \n",
    "    x = is_number_prime(num) \n",
    "t1 = time.time() \n",
    "print(\"Your function took this much time: \", t1 - t0)"
   ]
  },
  {
   "cell_type": "code",
   "execution_count": 118,
   "metadata": {},
   "outputs": [
    {
     "name": "stdout",
     "output_type": "stream",
     "text": [
      "Pass from 1-1,000:\n",
      " [(1, False), (2, True), (3, True), (4, False), (5, True), (6, False), (7, True), (8, False), (9, False), (10, False), (11, True), (12, False), (13, True), (14, False), (15, False), (16, False), (17, True), (18, False), (19, True), (20, False), (21, False), (22, False), (23, True), (24, False), (25, False), (26, False), (27, False), (28, False), (29, True), (30, False), (31, True), (32, False), (33, False), (34, False), (35, False), (36, False), (37, True), (38, False), (39, False), (40, False), (41, True), (42, False), (43, True), (44, False), (45, False), (46, False), (47, True), (48, False), (49, False), (50, False), (51, False), (52, False), (53, True), (54, False), (55, False), (56, False), (57, False), (58, False), (59, True), (60, False), (61, True), (62, False), (63, False), (64, False), (65, False), (66, False), (67, True), (68, False), (69, False), (70, False), (71, True), (72, False), (73, True), (74, False), (75, False), (76, False), (77, False), (78, False), (79, True), (80, False), (81, False), (82, False), (83, True), (84, False), (85, False), (86, False), (87, False), (88, False), (89, True), (90, False), (91, False), (92, False), (93, False), (94, False), (95, False), (96, False), (97, True), (98, False), (99, False), (100, False), (101, True), (102, False), (103, True), (104, False), (105, False), (106, False), (107, True), (108, False), (109, True), (110, False), (111, False), (112, False), (113, True), (114, False), (115, False), (116, False), (117, False), (118, False), (119, False), (120, False), (121, False), (122, False), (123, False), (124, False), (125, False), (126, False), (127, True), (128, False), (129, False), (130, False), (131, True), (132, False), (133, False), (134, False), (135, False), (136, False), (137, True), (138, False), (139, True), (140, False), (141, False), (142, False), (143, False), (144, False), (145, False), (146, False), (147, False), (148, False), (149, True), (150, False), (151, True), (152, False), (153, False), (154, False), (155, False), (156, False), (157, True), (158, False), (159, False), (160, False), (161, False), (162, False), (163, True), (164, False), (165, False), (166, False), (167, True), (168, False), (169, False), (170, False), (171, False), (172, False), (173, True), (174, False), (175, False), (176, False), (177, False), (178, False), (179, True), (180, False), (181, True), (182, False), (183, False), (184, False), (185, False), (186, False), (187, False), (188, False), (189, False), (190, False), (191, True), (192, False), (193, True), (194, False), (195, False), (196, False), (197, True), (198, False), (199, True), (200, False), (201, False), (202, False), (203, False), (204, False), (205, False), (206, False), (207, False), (208, False), (209, False), (210, False), (211, True), (212, False), (213, False), (214, False), (215, False), (216, False), (217, False), (218, False), (219, False), (220, False), (221, False), (222, False), (223, True), (224, False), (225, False), (226, False), (227, True), (228, False), (229, True), (230, False), (231, False), (232, False), (233, True), (234, False), (235, False), (236, False), (237, False), (238, False), (239, True), (240, False), (241, True), (242, False), (243, False), (244, False), (245, False), (246, False), (247, False), (248, False), (249, False), (250, False), (251, True), (252, False), (253, False), (254, False), (255, False), (256, False), (257, True), (258, False), (259, False), (260, False), (261, False), (262, False), (263, True), (264, False), (265, False), (266, False), (267, False), (268, False), (269, True), (270, False), (271, True), (272, False), (273, False), (274, False), (275, False), (276, False), (277, True), (278, False), (279, False), (280, False), (281, True), (282, False), (283, True), (284, False), (285, False), (286, False), (287, False), (288, False), (289, False), (290, False), (291, False), (292, False), (293, True), (294, False), (295, False), (296, False), (297, False), (298, False), (299, False), (300, False), (301, False), (302, False), (303, False), (304, False), (305, False), (306, False), (307, True), (308, False), (309, False), (310, False), (311, True), (312, False), (313, True), (314, False), (315, False), (316, False), (317, True), (318, False), (319, False), (320, False), (321, False), (322, False), (323, False), (324, False), (325, False), (326, False), (327, False), (328, False), (329, False), (330, False), (331, True), (332, False), (333, False), (334, False), (335, False), (336, False), (337, True), (338, False), (339, False), (340, False), (341, False), (342, False), (343, False), (344, False), (345, False), (346, False), (347, True), (348, False), (349, True), (350, False), (351, False), (352, False), (353, True), (354, False), (355, False), (356, False), (357, False), (358, False), (359, True), (360, False), (361, False), (362, False), (363, False), (364, False), (365, False), (366, False), (367, True), (368, False), (369, False), (370, False), (371, False), (372, False), (373, True), (374, False), (375, False), (376, False), (377, False), (378, False), (379, True), (380, False), (381, False), (382, False), (383, True), (384, False), (385, False), (386, False), (387, False), (388, False), (389, True), (390, False), (391, False), (392, False), (393, False), (394, False), (395, False), (396, False), (397, True), (398, False), (399, False), (400, False), (401, True), (402, False), (403, False), (404, False), (405, False), (406, False), (407, False), (408, False), (409, True), (410, False), (411, False), (412, False), (413, False), (414, False), (415, False), (416, False), (417, False), (418, False), (419, True), (420, False), (421, True), (422, False), (423, False), (424, False), (425, False), (426, False), (427, False), (428, False), (429, False), (430, False), (431, True), (432, False), (433, True), (434, False), (435, False), (436, False), (437, False), (438, False), (439, True), (440, False), (441, False), (442, False), (443, True), (444, False), (445, False), (446, False), (447, False), (448, False), (449, True), (450, False), (451, False), (452, False), (453, False), (454, False), (455, False), (456, False), (457, True), (458, False), (459, False), (460, False), (461, True), (462, False), (463, True), (464, False), (465, False), (466, False), (467, True), (468, False), (469, False), (470, False), (471, False), (472, False), (473, False), (474, False), (475, False), (476, False), (477, False), (478, False), (479, True), (480, False), (481, False), (482, False), (483, False), (484, False), (485, False), (486, False), (487, True), (488, False), (489, False), (490, False), (491, True), (492, False), (493, False), (494, False), (495, False), (496, False), (497, False), (498, False), (499, True), (500, False), (501, False), (502, False), (503, True), (504, False), (505, False), (506, False), (507, False), (508, False), (509, True), (510, False), (511, False), (512, False), (513, False), (514, False), (515, False), (516, False), (517, False), (518, False), (519, False), (520, False), (521, True), (522, False), (523, True), (524, False), (525, False), (526, False), (527, False), (528, False), (529, False), (530, False), (531, False), (532, False), (533, False), (534, False), (535, False), (536, False), (537, False), (538, False), (539, False), (540, False), (541, True), (542, False), (543, False), (544, False), (545, False), (546, False), (547, True), (548, False), (549, False), (550, False), (551, False), (552, False), (553, False), (554, False), (555, False), (556, False), (557, True), (558, False), (559, False), (560, False), (561, False), (562, False), (563, True), (564, False), (565, False), (566, False), (567, False), (568, False), (569, True), (570, False), (571, True), (572, False), (573, False), (574, False), (575, False), (576, False), (577, True), (578, False), (579, False), (580, False), (581, False), (582, False), (583, False), (584, False), (585, False), (586, False), (587, True), (588, False), (589, False), (590, False), (591, False), (592, False), (593, True), (594, False), (595, False), (596, False), (597, False), (598, False), (599, True), (600, False), (601, True), (602, False), (603, False), (604, False), (605, False), (606, False), (607, True), (608, False), (609, False), (610, False), (611, False), (612, False), (613, True), (614, False), (615, False), (616, False), (617, True), (618, False), (619, True), (620, False), (621, False), (622, False), (623, False), (624, False), (625, False), (626, False), (627, False), (628, False), (629, False), (630, False), (631, True), (632, False), (633, False), (634, False), (635, False), (636, False), (637, False), (638, False), (639, False), (640, False), (641, True), (642, False), (643, True), (644, False), (645, False), (646, False), (647, True), (648, False), (649, False), (650, False), (651, False), (652, False), (653, True), (654, False), (655, False), (656, False), (657, False), (658, False), (659, True), (660, False), (661, True), (662, False), (663, False), (664, False), (665, False), (666, False), (667, False), (668, False), (669, False), (670, False), (671, False), (672, False), (673, True), (674, False), (675, False), (676, False), (677, True), (678, False), (679, False), (680, False), (681, False), (682, False), (683, True), (684, False), (685, False), (686, False), (687, False), (688, False), (689, False), (690, False), (691, True), (692, False), (693, False), (694, False), (695, False), (696, False), (697, False), (698, False), (699, False), (700, False), (701, True), (702, False), (703, False), (704, False), (705, False), (706, False), (707, False), (708, False), (709, True), (710, False), (711, False), (712, False), (713, False), (714, False), (715, False), (716, False), (717, False), (718, False), (719, True), (720, False), (721, False), (722, False), (723, False), (724, False), (725, False), (726, False), (727, True), (728, False), (729, False), (730, False), (731, False), (732, False), (733, True), (734, False), (735, False), (736, False), (737, False), (738, False), (739, True), (740, False), (741, False), (742, False), (743, True), (744, False), (745, False), (746, False), (747, False), (748, False), (749, False), (750, False), (751, True), (752, False), (753, False), (754, False), (755, False), (756, False), (757, True), (758, False), (759, False), (760, False), (761, True), (762, False), (763, False), (764, False), (765, False), (766, False), (767, False), (768, False), (769, True), (770, False), (771, False), (772, False), (773, True), (774, False), (775, False), (776, False), (777, False), (778, False), (779, False), (780, False), (781, False), (782, False), (783, False), (784, False), (785, False), (786, False), (787, True), (788, False), (789, False), (790, False), (791, False), (792, False), (793, False), (794, False), (795, False), (796, False), (797, True), (798, False), (799, False), (800, False), (801, False), (802, False), (803, False), (804, False), (805, False), (806, False), (807, False), (808, False), (809, True), (810, False), (811, True), (812, False), (813, False), (814, False), (815, False), (816, False), (817, False), (818, False), (819, False), (820, False), (821, True), (822, False), (823, True), (824, False), (825, False), (826, False), (827, True), (828, False), (829, True), (830, False), (831, False), (832, False), (833, False), (834, False), (835, False), (836, False), (837, False), (838, False), (839, True), (840, False), (841, False), (842, False), (843, False), (844, False), (845, False), (846, False), (847, False), (848, False), (849, False), (850, False), (851, False), (852, False), (853, True), (854, False), (855, False), (856, False), (857, True), (858, False), (859, True), (860, False), (861, False), (862, False), (863, True), (864, False), (865, False), (866, False), (867, False), (868, False), (869, False), (870, False), (871, False), (872, False), (873, False), (874, False), (875, False), (876, False), (877, True), (878, False), (879, False), (880, False), (881, True), (882, False), (883, True), (884, False), (885, False), (886, False), (887, True), (888, False), (889, False), (890, False), (891, False), (892, False), (893, False), (894, False), (895, False), (896, False), (897, False), (898, False), (899, False), (900, False), (901, False), (902, False), (903, False), (904, False), (905, False), (906, False), (907, True), (908, False), (909, False), (910, False), (911, True), (912, False), (913, False), (914, False), (915, False), (916, False), (917, False), (918, False), (919, True), (920, False), (921, False), (922, False), (923, False), (924, False), (925, False), (926, False), (927, False), (928, False), (929, True), (930, False), (931, False), (932, False), (933, False), (934, False), (935, False), (936, False), (937, True), (938, False), (939, False), (940, False), (941, True), (942, False), (943, False), (944, False), (945, False), (946, False), (947, True), (948, False), (949, False), (950, False), (951, False), (952, False), (953, True), (954, False), (955, False), (956, False), (957, False), (958, False), (959, False), (960, False), (961, False), (962, False), (963, False), (964, False), (965, False), (966, False), (967, True), (968, False), (969, False), (970, False), (971, True), (972, False), (973, False), (974, False), (975, False), (976, False), (977, True), (978, False), (979, False), (980, False), (981, False), (982, False), (983, True), (984, False), (985, False), (986, False), (987, False), (988, False), (989, False), (990, False), (991, True), (992, False), (993, False), (994, False), (995, False), (996, False), (997, True), (998, False), (999, False)]\n"
     ]
    }
   ],
   "source": [
    "# Inspect primes\n",
    "primes = []\n",
    "for num in range(1,1000): \n",
    "    x = is_number_prime(num) \n",
    "    primes.append((num,x))\n",
    "print(\"Pass from 1-1,000:\\n\", primes) "
   ]
  },
  {
   "cell_type": "markdown",
   "metadata": {},
   "source": [
    "#### Recursion and primes, split and conquer"
   ]
  },
  {
   "cell_type": "code",
   "execution_count": null,
   "metadata": {},
   "outputs": [],
   "source": []
  }
 ],
 "metadata": {
  "kernelspec": {
   "display_name": "Python 3",
   "language": "python",
   "name": "python3"
  },
  "language_info": {
   "codemirror_mode": {
    "name": "ipython",
    "version": 3
   },
   "file_extension": ".py",
   "mimetype": "text/x-python",
   "name": "python",
   "nbconvert_exporter": "python",
   "pygments_lexer": "ipython3",
   "version": "3.8.1"
  }
 },
 "nbformat": 4,
 "nbformat_minor": 4
}
