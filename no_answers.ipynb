{
 "cells": [
  {
   "cell_type": "markdown",
   "metadata": {},
   "source": [
    "# with_answers file"
   ]
  },
  {
   "cell_type": "markdown",
   "metadata": {},
   "source": [
    "*Here you will find the excercises and the answers in the exact same format as in the no_answers.ipynb file*"
   ]
  },
  {
   "cell_type": "markdown",
   "metadata": {},
   "source": [
    "## Lists"
   ]
  },
  {
   "cell_type": "markdown",
   "metadata": {},
   "source": [
    "## Dictionaries"
   ]
  },
  {
   "cell_type": "markdown",
   "metadata": {},
   "source": [
    "## Iteration"
   ]
  },
  {
   "cell_type": "markdown",
   "metadata": {},
   "source": [
    "#### Simple iteration with class"
   ]
  },
  {
   "cell_type": "markdown",
   "metadata": {},
   "source": [
    "Write a class that:\n",
    "- Does not take any input but has a list inside \\_\\_init\\_\\_\n",
    "- Divides the list of numbers into 3 and puts them in a new list\n",
    "- Prints the quotients as an integer in readable form\n",
    "- Outputs that list\n",
    "\n",
    "Use this list inside your class inside \\_\\_init\\_\\_:\n",
    "\n",
    "```numbers_divisible_by_three = [3, 6, 9, 12, 15]```"
   ]
  },
  {
   "cell_type": "code",
   "execution_count": 2,
   "metadata": {},
   "outputs": [],
   "source": []
  },
  {
   "cell_type": "code",
   "execution_count": 3,
   "metadata": {},
   "outputs": [
    {
     "name": "stdout",
     "output_type": "stream",
     "text": [
      "Your divisible number is 3\n",
      "Your divisible number is 6\n",
      "Your divisible number is 9\n",
      "Your divisible number is 12\n",
      "Your divisible number is 15\n"
     ]
    }
   ],
   "source": [
    "# Test\n",
    "divisible_numbers = three_division().divide_self_list()\n",
    "assert len(divisible_numbers) == 5"
   ]
  },
  {
   "cell_type": "markdown",
   "metadata": {},
   "source": [
    "#### Iteration with range"
   ]
  },
  {
   "cell_type": "markdown",
   "metadata": {},
   "source": [
    "*Augment your previous class with the following:*\n",
    "- Create a number list containing only the numbers from 5 to 1,000\n",
    "that are divisible by 3 using ```range(start, end, step)```\n",
    "- The number list will have to be inverted this time ```reversed()```\n",
    "- Divides numbers into 3\n",
    "- Outputs the quotient as an integer in readable form\n",
    "\n",
    "*Notice that range starts from 0 when no start is provided.*\n",
    "\n",
    "*Also notice that range stops BEFORE the end number.*"
   ]
  },
  {
   "cell_type": "code",
   "execution_count": 1,
   "metadata": {},
   "outputs": [],
   "source": [
    "# Your answer"
   ]
  },
  {
   "cell_type": "code",
   "execution_count": 2,
   "metadata": {},
   "outputs": [],
   "source": [
    "# Test\n",
    "divisible_numbers = three_division().divide_create_list()\n",
    "assert len(divisible_numbers) == 332"
   ]
  },
  {
   "cell_type": "markdown",
   "metadata": {},
   "source": [
    "#### Iteration with numpy for floats"
   ]
  },
  {
   "cell_type": "markdown",
   "metadata": {},
   "source": [
    "*```range()``` will only work for integer numbers*\n",
    "*Augment your previous class to use numpy as instructed:*\n",
    "- Division of numbers into 3.3\n",
    "- Outputs the quotient as a rounded float to 2 digits ```round()```\n",
    "in readable form.\n",
    "- Create the number list yourself with numbers from 0 to 1,000\n",
    "that are divisible by 3.3. numpy + range = ```np.arange()```, but\n",
    "may contain floating point errors.\n",
    "\n",
    "*Notice that all floats are rounded unless you use sth like\n",
    "the decimal library.*\n",
    "\n",
    "Alternatively, you could also use ```np.linspace()```. It does essentially\n",
    "the same thing but uses different parameters. With ```np.linspace()```,\n",
    "you specify start and end (both inclusive) as well as the length of\n",
    "the array (instead of step).\""
   ]
  },
  {
   "cell_type": "code",
   "execution_count": 3,
   "metadata": {},
   "outputs": [],
   "source": [
    "# Your answer\n"
   ]
  },
  {
   "cell_type": "code",
   "execution_count": 4,
   "metadata": {},
   "outputs": [],
   "source": [
    "# Tests\n",
    "# divisible_numbers = three_division().divide_create_float_list()\n",
    "# assert len(divisible_numbers) == 9  # This is caused by the floating point error\n",
    "\n",
    "# This method works well on my machine but doesn't here... Might fix it later.\n",
    "divisible_numbers = three_division().divide_create_float_linspace()\n",
    "# assert len(divisible_numbers) == 9  # This number may differ depending on settings cuz #round()"
   ]
  },
  {
   "cell_type": "code",
   "execution_count": 5,
   "metadata": {},
   "outputs": [],
   "source": [
    "#### Class decorators: properties and setters"
   ]
  },
  {
   "cell_type": "code",
   "execution_count": 6,
   "metadata": {},
   "outputs": [],
   "source": [
    "# Your answer\n"
   ]
  },
  {
   "cell_type": "code",
   "execution_count": 9,
   "metadata": {},
   "outputs": [
    {
     "name": "stdout",
     "output_type": "stream",
     "text": [
      "[3, 6, 9, 12, 15]\n",
      "[1, 2, 3, 16]\n"
     ]
    }
   ],
   "source": [
    "# default list\n",
    "print(three_division().div_list)\n",
    "# add custom list\n",
    "x = three_division()\n",
    "x.div_list = [1,2,3,16]\n",
    "print(x.div_list)"
   ]
  },
  {
   "cell_type": "markdown",
   "metadata": {},
   "source": [
    "### Iteration with enumerate"
   ]
  },
  {
   "cell_type": "markdown",
   "metadata": {},
   "source": [
    "#### Fizz Buzz"
   ]
  },
  {
   "cell_type": "markdown",
   "metadata": {},
   "source": [
    "*Write a function that:*\n",
    "- Replaces all integers divided by 5 with fizz\n",
    "- Replaces all integers divisible by 3 with buzz\n",
    "\n",
    "*be careful with: the `and` keyword*\n",
    "*be careful with: return values in functions*\n",
    "Use the following list and replace all values in it:\n",
    "```numbers = list(range(1,51))````"
   ]
  },
  {
   "cell_type": "code",
   "execution_count": 11,
   "metadata": {},
   "outputs": [],
   "source": [
    "numbers = list(range(1,51))"
   ]
  },
  {
   "cell_type": "code",
   "execution_count": 12,
   "metadata": {},
   "outputs": [
    {
     "name": "stdout",
     "output_type": "stream",
     "text": [
      "[1, 2, 'buzz', 4, 'fizz', 'buzz', 7, 8, 'buzz', 'fizz', 11, 'buzz', 13, 14, 'fizzbuzz', 16, 17, 'buzz', 19, 'fizz', 'buzz', 22, 23, 'buzz', 'fizz', 26, 'buzz', 28, 29, 'fizzbuzz', 31, 32, 'buzz', 34, 'fizz', 'buzz', 37, 38, 'buzz', 'fizz', 41, 'buzz', 43, 44, 'fizzbuzz', 46, 47, 'buzz', 49, 'fizz']\n"
     ]
    }
   ],
   "source": [
    "# Your answer"
   ]
  },
  {
   "cell_type": "markdown",
   "metadata": {},
   "source": [
    "#### Maps and filters"
   ]
  },
  {
   "cell_type": "markdown",
   "metadata": {},
   "source": [
    "*You are given a function and an input. Map the output to a list.*"
   ]
  },
  {
   "cell_type": "code",
   "execution_count": 1,
   "metadata": {},
   "outputs": [],
   "source": [
    "in_sound = ['AƩ','AZ','AR','AT','AƷ','AP','AS','AD','AF','AG','AH','AJ','AK']"
   ]
  },
  {
   "cell_type": "code",
   "execution_count": 3,
   "metadata": {},
   "outputs": [
    {
     "name": "stdout",
     "output_type": "stream",
     "text": [
      "You mapping is:\n",
      " ['aʃ', 'az', 'ar', 'at', 'aʒ', 'ap', 'as', 'ad', 'af', 'ag', 'ah', 'aj', 'ak']\n",
      "You mapping with list comprehension is:\n",
      " ['aʃ', 'az', 'ar', 'at', 'aʒ', 'ap', 'as', 'ad', 'af', 'ag', 'ah', 'aj', 'ak']\n"
     ]
    }
   ],
   "source": [
    "# Your answer"
   ]
  },
  {
   "cell_type": "markdown",
   "metadata": {},
   "source": [
    "*You are given a function and an input. Filter the output to a list.*"
   ]
  },
  {
   "cell_type": "code",
   "execution_count": 5,
   "metadata": {},
   "outputs": [],
   "source": [
    "in_sound = ['aʃ','az','ar','at','aʒ','ap','as','ad','af','ag','ah','aj','ak']"
   ]
  },
  {
   "cell_type": "code",
   "execution_count": 6,
   "metadata": {},
   "outputs": [
    {
     "name": "stdout",
     "output_type": "stream",
     "text": [
      "You filtering is:\n",
      " ['ar', 'at', 'ap', 'ad', 'af', 'ag', 'ah', 'aj', 'ak']\n",
      "You filtering with list comprehension is:\n",
      " ['ar', 'at', 'ap', 'ad', 'af', 'ag', 'ah', 'aj', 'ak']\n"
     ]
    }
   ],
   "source": [
    "# Your answer"
   ]
  },
  {
   "cell_type": "markdown",
   "metadata": {},
   "source": [
    "## Fun with recursion"
   ]
  },
  {
   "cell_type": "markdown",
   "metadata": {},
   "source": [
    "#### Recursion and primes, naïve approach"
   ]
  },
  {
   "cell_type": "markdown",
   "metadata": {},
   "source": [
    "*Write a recursive function that tests for prime numbers by checking all divisors. A non-recursive example is shown below:*"
   ]
  },
  {
   "cell_type": "code",
   "execution_count": 9,
   "metadata": {},
   "outputs": [
    {
     "data": {
      "text/plain": [
       "True"
      ]
     },
     "execution_count": 9,
     "metadata": {},
     "output_type": "execute_result"
    }
   ],
   "source": [
    "# Non-recursive example:\n",
    "def is_number_prime(number): \n",
    "    if number < 2: \n",
    "        return False\n",
    "    for divisor in range(2, number): \n",
    "        if number % divisor == 0: \n",
    "            return False\n",
    "    return True\n",
    "is_number_prime(2)"
   ]
  },
  {
   "cell_type": "code",
   "execution_count": 10,
   "metadata": {},
   "outputs": [
    {
     "data": {
      "text/plain": [
       "True"
      ]
     },
     "execution_count": 10,
     "metadata": {},
     "output_type": "execute_result"
    }
   ],
   "source": [
    "# Your answer"
   ]
  },
  {
   "cell_type": "code",
   "execution_count": 11,
   "metadata": {},
   "outputs": [],
   "source": [
    "# Tests\n",
    "assert is_number_prime(2) == True\n",
    "assert is_number_prime(7) == True\n",
    "assert is_number_prime(13) == True\n",
    "assert is_number_prime(29) == True\n",
    "assert is_number_prime(53) == True"
   ]
  },
  {
   "cell_type": "code",
   "execution_count": 12,
   "metadata": {},
   "outputs": [
    {
     "name": "stdout",
     "output_type": "stream",
     "text": [
      "Your function took this much time:  0.08274006843566895\n"
     ]
    }
   ],
   "source": [
    "# Driver function \n",
    "import time\n",
    "t0 = time.time()\n",
    "for num in range(1,1000): \n",
    "    x = is_number_prime(num) \n",
    "t1 = time.time() \n",
    "print(\"Your function took this much time: \", t1 - t0)"
   ]
  },
  {
   "cell_type": "code",
   "execution_count": 14,
   "metadata": {},
   "outputs": [],
   "source": [
    "# Inspect primes\n",
    "primes = []\n",
    "for num in range(1,1000): \n",
    "    x = is_number_prime(num) \n",
    "    primes.append((num,x))\n",
    "# print(\"Pass from 1-1,000:\\n\", primes) "
   ]
  },
  {
   "cell_type": "markdown",
   "metadata": {},
   "source": [
    "#### Recursion and primes, discard pair values"
   ]
  },
  {
   "cell_type": "markdown",
   "metadata": {},
   "source": [
    "*Write a recursive function that tests for prime numbers by discarding all pairs first*\n"
   ]
  },
  {
   "cell_type": "code",
   "execution_count": 15,
   "metadata": {},
   "outputs": [
    {
     "data": {
      "text/plain": [
       "True"
      ]
     },
     "execution_count": 15,
     "metadata": {},
     "output_type": "execute_result"
    }
   ],
   "source": [
    "# Your answer"
   ]
  },
  {
   "cell_type": "code",
   "execution_count": 16,
   "metadata": {},
   "outputs": [],
   "source": [
    "# Tests\n",
    "assert is_number_prime(4) == False\n",
    "assert is_number_prime(2) == True\n",
    "assert is_number_prime(7) == True\n",
    "assert is_number_prime(13) == True\n",
    "assert is_number_prime(29) == True\n",
    "assert is_number_prime(53) == True"
   ]
  },
  {
   "cell_type": "code",
   "execution_count": 17,
   "metadata": {},
   "outputs": [
    {
     "name": "stdout",
     "output_type": "stream",
     "text": [
      "Your function took this much time:  0.062371015548706055\n"
     ]
    }
   ],
   "source": [
    "# Driver function \n",
    "import time\n",
    "t0 = time.time()\n",
    "for num in range(1,1000): \n",
    "    x = is_number_prime(num) \n",
    "t1 = time.time() \n",
    "print(\"Your function took this much time: \", t1 - t0)"
   ]
  },
  {
   "cell_type": "code",
   "execution_count": 18,
   "metadata": {},
   "outputs": [],
   "source": [
    "# Inspect primes\n",
    "primes = []\n",
    "for num in range(1,1000): \n",
    "    x = is_number_prime(num) \n",
    "    primes.append((num,x))\n",
    "# print(\"Pass from 1-1,000:\\n\", primes)"
   ]
  },
  {
   "cell_type": "markdown",
   "metadata": {},
   "source": [
    "#### Primes, split and conquer"
   ]
  },
  {
   "cell_type": "markdown",
   "metadata": {},
   "source": [
    "Write a function that deals with both the divisor and dividend, then test with the following basic function:\n",
    "```\n",
    "def is_number_prime(number): \n",
    "    if number < 2: \n",
    "        return False\n",
    "    for divisor in range(2, number): \n",
    "        if number % divisor == 0: \n",
    "            return False\n",
    "    return True\n",
    "```"
   ]
  },
  {
   "cell_type": "code",
   "execution_count": 11,
   "metadata": {},
   "outputs": [],
   "source": [
    "# Your answer"
   ]
  },
  {
   "cell_type": "code",
   "execution_count": 12,
   "metadata": {},
   "outputs": [
    {
     "name": "stdout",
     "output_type": "stream",
     "text": [
      "Your function took this much time:  0.0007359981536865234\n"
     ]
    }
   ],
   "source": [
    "# Driver function \n",
    "import time\n",
    "t0 = time.time()\n",
    "for num in range(1,1000): \n",
    "    x = is_number_prime(num) \n",
    "t1 = time.time() \n",
    "print(\"Your function took this much time: \", t1 - t0)"
   ]
  },
  {
   "cell_type": "code",
   "execution_count": 13,
   "metadata": {},
   "outputs": [],
   "source": [
    "# Test function\n",
    "def test_number_prime(number): \n",
    "    if number < 2: \n",
    "        return False\n",
    "    for divisor in range(2, number): \n",
    "        if number % divisor == 0: \n",
    "            return False\n",
    "    return True\n"
   ]
  },
  {
   "cell_type": "markdown",
   "metadata": {},
   "source": [
    "*Test it with ```range(1,10000)```*"
   ]
  },
  {
   "cell_type": "code",
   "execution_count": 14,
   "metadata": {},
   "outputs": [
    {
     "name": "stdout",
     "output_type": "stream",
     "text": [
      "Your test without generators took: 30.739756107330322\n"
     ]
    }
   ],
   "source": [
    "# Test\n",
    "# Use generators for memory efficiency\n",
    "import time\n",
    "\n",
    "\n",
    "# t0 = time.time()\n",
    "# primes = (number for number in range(1,100000) if is_number_prime(number))\n",
    "# test_primes = (number for number in range(1,100000) if test_number_prime(number))\n",
    "# for prime in primes:\n",
    "#     assert prime == next(test_primes)\n",
    "# t1 = time.time() \n",
    "# # print(f\"Your test with generators took {t1 - t0}/s\")\n",
    "# print(f\"Your test with generators took:\", t1 - t0)\n",
    "\n",
    "\n",
    "t0 = time.time()\n",
    "primes = [number for number in range(1,100000) if is_number_prime(number)]\n",
    "test_primes = [number for number in range(1,100000) if test_number_prime(number)]\n",
    "\n",
    "for index, prime in enumerate(primes):\n",
    "    assert prime == test_primes[index]\n",
    "t1 = time.time() \n",
    "# print(f\"Your test without generators took {t1 - t0}/s\")\n",
    "print(f\"Your test without generators took:\", t1 - t0)"
   ]
  }
 ],
 "metadata": {
  "kernelspec": {
   "display_name": "Python 3",
   "language": "python",
   "name": "python3"
  },
  "language_info": {
   "codemirror_mode": {
    "name": "ipython",
    "version": 3
   },
   "file_extension": ".py",
   "mimetype": "text/x-python",
   "name": "python",
   "nbconvert_exporter": "python",
   "pygments_lexer": "ipython3",
   "version": "3.8.1"
  }
 },
 "nbformat": 4,
 "nbformat_minor": 4
}
