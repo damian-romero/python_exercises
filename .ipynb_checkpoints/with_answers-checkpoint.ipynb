{
 "cells": [
  {
   "cell_type": "markdown",
   "metadata": {},
   "source": [
    "# with_answers file"
   ]
  },
  {
   "cell_type": "markdown",
   "metadata": {},
   "source": [
    "*Here you will find the excercises and the answers in the exact same format as in the no_answers.ipynb file*"
   ]
  },
  {
   "cell_type": "markdown",
   "metadata": {},
   "source": [
    "## Lists"
   ]
  },
  {
   "cell_type": "markdown",
   "metadata": {},
   "source": [
    "## Dictionaries"
   ]
  },
  {
   "cell_type": "markdown",
   "metadata": {},
   "source": [
    "## Iteration"
   ]
  },
  {
   "cell_type": "markdown",
   "metadata": {},
   "source": [
    "#### Simple iteration with class"
   ]
  },
  {
   "cell_type": "markdown",
   "metadata": {},
   "source": [
    "Write a class that:\n",
    "- Does not take any input but has a list inside \\_\\_init\\_\\_\n",
    "- Divides the list of numbers into 3 and puts them in a new list\n",
    "- Prints the quotients as an integer in readable form\n",
    "- Outputs that list\n",
    "\n",
    "Use this list inside your class inside \\_\\_init\\_\\_:\n",
    "\n",
    "```numbers_divisible_by_three = [3, 6, 9, 12, 15]```"
   ]
  },
  {
   "cell_type": "code",
   "execution_count": 29,
   "metadata": {},
   "outputs": [],
   "source": [
    "# My answer\n",
    "class three_division:\n",
    "    def __init__(self):\n",
    "\n",
    "        self.numbers_divisible_by_three = [3, 6, 9, 12, 15]\n",
    "\n",
    "    def divide_self_list(self):\n",
    "        divided_list = []\n",
    "        for item in self.numbers_divisible_by_three:\n",
    "            if item % 3 == 0:\n",
    "                divided_list.append(item)\n",
    "                print(f\"Your divisible number is {int(item)}\")\n",
    "        return divided_list"
   ]
  },
  {
   "cell_type": "code",
   "execution_count": 31,
   "metadata": {},
   "outputs": [
    {
     "name": "stdout",
     "output_type": "stream",
     "text": [
      "Your divisible number is 3\n",
      "Your divisible number is 6\n",
      "Your divisible number is 9\n",
      "Your divisible number is 12\n",
      "Your divisible number is 15\n"
     ]
    }
   ],
   "source": [
    "# Test\n",
    "divisible_numbers = three_division().divide_self_list()\n",
    "assert len(divisible_numbers) == 5"
   ]
  },
  {
   "cell_type": "code",
   "execution_count": null,
   "metadata": {},
   "outputs": [],
   "source": []
  },
  {
   "cell_type": "code",
   "execution_count": null,
   "metadata": {},
   "outputs": [],
   "source": []
  },
  {
   "cell_type": "code",
   "execution_count": null,
   "metadata": {},
   "outputs": [],
   "source": []
  },
  {
   "cell_type": "code",
   "execution_count": null,
   "metadata": {},
   "outputs": [],
   "source": []
  },
  {
   "cell_type": "code",
   "execution_count": null,
   "metadata": {},
   "outputs": [],
   "source": []
  },
  {
   "cell_type": "code",
   "execution_count": null,
   "metadata": {},
   "outputs": [],
   "source": []
  },
  {
   "cell_type": "code",
   "execution_count": null,
   "metadata": {},
   "outputs": [],
   "source": []
  }
 ],
 "metadata": {
  "kernelspec": {
   "display_name": "Python 3",
   "language": "python",
   "name": "python3"
  },
  "language_info": {
   "codemirror_mode": {
    "name": "ipython",
    "version": 3
   },
   "file_extension": ".py",
   "mimetype": "text/x-python",
   "name": "python",
   "nbconvert_exporter": "python",
   "pygments_lexer": "ipython3",
   "version": "3.8.1"
  }
 },
 "nbformat": 4,
 "nbformat_minor": 4
}
