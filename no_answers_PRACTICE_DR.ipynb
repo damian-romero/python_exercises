{
 "cells": [
  {
   "cell_type": "markdown",
   "metadata": {},
   "source": [
    "# with_answers file"
   ]
  },
  {
   "cell_type": "markdown",
   "metadata": {},
   "source": [
    "*Here you will find the excercises and the answers in the exact same format as in the no_answers.ipynb file*"
   ]
  },
  {
   "cell_type": "markdown",
   "metadata": {},
   "source": [
    "## Lists"
   ]
  },
  {
   "cell_type": "markdown",
   "metadata": {},
   "source": [
    "## Dictionaries"
   ]
  },
  {
   "cell_type": "markdown",
   "metadata": {},
   "source": [
    "## Iteration"
   ]
  },
  {
   "cell_type": "markdown",
   "metadata": {},
   "source": [
    "#### Simple iteration with class"
   ]
  },
  {
   "cell_type": "markdown",
   "metadata": {},
   "source": [
    "Write a class that:\n",
    "- Does not take any input but has a list inside \\_\\_init\\_\\_\n",
    "- Divides the list of numbers into 3 and puts them in a new list\n",
    "- Prints the quotients as an integer in readable form\n",
    "- Outputs that list\n",
    "\n",
    "Use this list inside your class inside \\_\\_init\\_\\_:\n",
    "\n",
    "```numbers_divisible_by_three = [3, 6, 9, 12, 15]```"
   ]
  },
  {
   "cell_type": "code",
   "execution_count": 10,
   "metadata": {},
   "outputs": [],
   "source": [
    "# Your answer\n",
    "class three_division():\n",
    "    def __init__(self):\n",
    "        self.numbers_divisible_by_three = [3, 6, 9, 12, 15]\n",
    "    \n",
    "    def divide_self_list(self):\n",
    "        results = []\n",
    "        for i in self.numbers_divisible_by_three:\n",
    "            if i % 3 == 0:\n",
    "                print(f\"\"\"Your divisible number is: {i}\"\"\")\n",
    "                results.append(i)\n",
    "        return results"
   ]
  },
  {
   "cell_type": "code",
   "execution_count": 11,
   "metadata": {},
   "outputs": [
    {
     "name": "stdout",
     "output_type": "stream",
     "text": [
      "Your divisible number is: 3\n",
      "Your divisible number is: 6\n",
      "Your divisible number is: 9\n",
      "Your divisible number is: 12\n",
      "Your divisible number is: 15\n"
     ]
    }
   ],
   "source": [
    "# Test\n",
    "divisible_numbers = three_division().divide_self_list()\n",
    "assert len(divisible_numbers) == 5"
   ]
  },
  {
   "cell_type": "markdown",
   "metadata": {},
   "source": [
    "#### Iteration with range"
   ]
  },
  {
   "cell_type": "markdown",
   "metadata": {},
   "source": [
    "*Augment your previous class with the following:*\n",
    "- Create a number list containing only the numbers from 5 to 1,000\n",
    "that are divisible by 3 using ```range(start, end, step)```\n",
    "- The number list will have to be inverted this time ```reversed()```\n",
    "- Divides numbers into 3\n",
    "- Outputs the quotient as an integer in readable form\n",
    "\n",
    "*Notice that range starts from 0 when no start is provided.*\n",
    "\n",
    "*Also notice that range stops BEFORE the end number.*"
   ]
  },
  {
   "cell_type": "code",
   "execution_count": 25,
   "metadata": {},
   "outputs": [
    {
     "data": {
      "text/plain": [
       "'332'"
      ]
     },
     "execution_count": 25,
     "metadata": {},
     "output_type": "execute_result"
    }
   ],
   "source": [
    "# Your answer\n",
    "class three_division():\n",
    "    def __init__(self):\n",
    "        self.numbers_divisible_by_three = [3, 6, 9, 12, 15]\n",
    "    \n",
    "    def divide_create_list(self):\n",
    "        results = []\n",
    "        for i in reversed(range(6,1001,3)):\n",
    "            if i % 3 == 0:\n",
    "                results.append(i)\n",
    "        return results\n",
    "x = three_division().divide_create_list()\n",
    "f'{len(x)}'"
   ]
  },
  {
   "cell_type": "code",
   "execution_count": 26,
   "metadata": {},
   "outputs": [],
   "source": [
    "# Test\n",
    "divisible_numbers = three_division().divide_create_list()\n",
    "assert len(divisible_numbers) == 332"
   ]
  },
  {
   "cell_type": "markdown",
   "metadata": {},
   "source": [
    "#### Iteration with numpy for floats"
   ]
  },
  {
   "cell_type": "markdown",
   "metadata": {},
   "source": [
    "*```range()``` will only work for integer numbers*\n",
    "*Augment your previous class to use numpy as instructed:*\n",
    "- Division of numbers into 3.3\n",
    "- Outputs the quotient as a rounded float to 2 digits ```round()```\n",
    "in readable form.\n",
    "- Create the number list yourself with numbers from 0 to 1,000\n",
    "that are divisible by 3.3. numpy + range = ```np.arange()```, but\n",
    "may contain floating point errors.\n",
    "\n",
    "*Notice that all floats are rounded unless you use sth like\n",
    "the decimal library.*\n",
    "\n",
    "Alternatively, you could also use ```np.linspace()```. It does essentially\n",
    "the same thing but uses different parameters. With ```np.linspace()```,\n",
    "you specify start and end (both inclusive) as well as the length of\n",
    "the array (instead of step).\""
   ]
  },
  {
   "cell_type": "code",
   "execution_count": 30,
   "metadata": {},
   "outputs": [],
   "source": [
    "# Your answer\n",
    "class three_division():\n",
    "    def __init__(self):\n",
    "        pass\n",
    "    \n",
    "    def divide_create_float_linspace(self):\n",
    "        import numpy as np\n",
    "        results = []\n",
    "        for i in reversed(np.arange(3.3, 1000, 3.3)):\n",
    "            if i % 3.3 == 0:\n",
    "                results.append(i)\n",
    "        return results"
   ]
  },
  {
   "cell_type": "code",
   "execution_count": 31,
   "metadata": {},
   "outputs": [],
   "source": [
    "# Tests\n",
    "# divisible_numbers = three_division().divide_create_float_list()\n",
    "# assert len(divisible_numbers) == 9  # This is caused by the floating point error\n",
    "\n",
    "# This method works well on my machine but doesn't here... Might fix it later.\n",
    "divisible_numbers = three_division().divide_create_float_linspace()\n",
    "# assert len(divisible_numbers) == 9  # This number may differ depending on settings cuz #round()"
   ]
  },
  {
   "cell_type": "code",
   "execution_count": 5,
   "metadata": {},
   "outputs": [],
   "source": [
    "#### Class decorators: properties and setters"
   ]
  },
  {
   "cell_type": "code",
   "execution_count": 36,
   "metadata": {},
   "outputs": [],
   "source": [
    "# Your answer\n",
    "# Your answer\n",
    "class three_division():\n",
    "    def __init__(self):\n",
    "        self._numbers_divisible_by_three = [3, 6, 9, 12, 15]\n",
    "    \n",
    "    @property\n",
    "    def div_list(self):\n",
    "        return self._numbers_divisible_by_three\n",
    "    \n",
    "    @div_list.setter\n",
    "    def div_list(self, usr_inp:list):\n",
    "        self._numbers_divisible_by_three = usr_inp\n",
    "    \n",
    "    def divide_create_float_linspace(self):\n",
    "        import numpy as np\n",
    "        results = []\n",
    "        for i in reversed(np.arange(3.3, 1000, 3.3)):\n",
    "            if i % 3.3 == 0:\n",
    "                results.append(i)\n",
    "        return results"
   ]
  },
  {
   "cell_type": "code",
   "execution_count": 37,
   "metadata": {},
   "outputs": [
    {
     "name": "stdout",
     "output_type": "stream",
     "text": [
      "[3, 6, 9, 12, 15]\n",
      "[1, 2, 3, 16]\n"
     ]
    }
   ],
   "source": [
    "# default list\n",
    "print(three_division().div_list)\n",
    "# add custom list\n",
    "x = three_division()\n",
    "x.div_list = [1,2,3,16]\n",
    "print(x.div_list)"
   ]
  },
  {
   "cell_type": "markdown",
   "metadata": {},
   "source": [
    "### Iteration with enumerate"
   ]
  },
  {
   "cell_type": "markdown",
   "metadata": {},
   "source": [
    "#### Fizz Buzz"
   ]
  },
  {
   "cell_type": "markdown",
   "metadata": {},
   "source": [
    "*Write a function that:*\n",
    "- Replaces all integers divided by 5 with fizz\n",
    "- Replaces all integers divisible by 3 with buzz\n",
    "\n",
    "*be careful with: the `and` keyword*\n",
    "*be careful with: return values in functions*\n",
    "Use the following list and replace all values in it:\n",
    "```numbers = list(range(1,51))````"
   ]
  },
  {
   "cell_type": "code",
   "execution_count": 67,
   "metadata": {},
   "outputs": [],
   "source": [
    "numbers = list(range(1,51))"
   ]
  },
  {
   "cell_type": "code",
   "execution_count": 68,
   "metadata": {},
   "outputs": [
    {
     "name": "stdout",
     "output_type": "stream",
     "text": [
      "[1, 2, 'buzz', 4, 'fizz', 'buzz', 7, 8, 'buzz', 'fizz', 11, 'buzz', 13, 14, 'fizzbuzz', 16, 17, 'buzz', 19, 'fizz', 'buzz', 22, 23, 'buzz', 'fizz', 26, 'buzz', 28, 29, 'fizzbuzz', 31, 32, 'buzz', 34, 'fizz', 'buzz', 37, 38, 'buzz', 'fizz', 41, 'buzz', 43, 44, 'fizzbuzz', 46, 47, 'buzz', 49, 'fizz']\n"
     ]
    }
   ],
   "source": [
    "# My answer\n",
    "def fizzbuzz(number:int):\n",
    "    if number % 5 == 0 and number % 3 == 0:\n",
    "        return 'fizzbuzz'\n",
    "    elif number % 5 ==0:\n",
    "        return 'fizz'\n",
    "    elif number % 3 ==0:\n",
    "        return 'buzz'\n",
    "    else:\n",
    "        return number\n",
    "\n",
    "for index, item in enumerate(numbers):\n",
    "    numbers[index] = fizzbuzz(item)\n",
    "print(numbers)"
   ]
  },
  {
   "cell_type": "markdown",
   "metadata": {},
   "source": [
    "#### Maps and filters"
   ]
  },
  {
   "cell_type": "markdown",
   "metadata": {},
   "source": [
    "*You are given a function and an input. Map the output to a list.*"
   ]
  },
  {
   "cell_type": "code",
   "execution_count": 69,
   "metadata": {},
   "outputs": [],
   "source": [
    "in_sound = ['AƩ','AZ','AR','AT','AƷ','AP','AS','AD','AF','AG','AH','AJ','AK']\n",
    "\n",
    "\n",
    "def lowercase_word(word):\n",
    "    return word.lower()"
   ]
  },
  {
   "cell_type": "code",
   "execution_count": 78,
   "metadata": {},
   "outputs": [
    {
     "name": "stdout",
     "output_type": "stream",
     "text": [
      "with map()\n",
      "['aʃ', 'az', 'ar', 'at', 'aʒ', 'ap', 'as', 'ad', 'af', 'ag', 'ah', 'aj', 'ak']\n",
      "with list compregension\n",
      "['aʃ', 'az', 'ar', 'at', 'aʒ', 'ap', 'as', 'ad', 'af', 'ag', 'ah', 'aj', 'ak']\n"
     ]
    }
   ],
   "source": [
    "# Your answer\n",
    "lower_sound = list(map(lowercase_word, in_sound))\n",
    "print(f\"\"\"with map()\n",
    "{lower_sound}\"\"\")\n",
    "lower_sound_listcomp = [lowercase_word(elem) for elem in in_sound]\n",
    "print(f\"\"\"with list comprehension\n",
    "{lower_sound_listcomp}\"\"\")"
   ]
  },
  {
   "cell_type": "markdown",
   "metadata": {},
   "source": [
    "*You are given a function and an input. Filter the output to a list.*"
   ]
  },
  {
   "cell_type": "code",
   "execution_count": 71,
   "metadata": {},
   "outputs": [],
   "source": [
    "in_sound = ['aʃ','az','ar','at','aʒ','ap','as','ad','af','ag','ah','aj','ak']\n",
    "\n",
    "def is_ending_minus_sibilant(string):\n",
    "    if string.endswith('s') or string.endswith('ʃ') or string.endswith('z') \\\n",
    "        or string.endswith('ʒ'):\n",
    "        return False\n",
    "    return True"
   ]
  },
  {
   "cell_type": "code",
   "execution_count": 79,
   "metadata": {},
   "outputs": [
    {
     "name": "stdout",
     "output_type": "stream",
     "text": [
      "with filter()\n",
      "['ar', 'at', 'ap', 'ad', 'af', 'ag', 'ah', 'aj', 'ak']\n",
      "with list comprehension\n",
      "['ar', 'at', 'ap', 'ad', 'af', 'ag', 'ah', 'aj', 'ak']\n"
     ]
    }
   ],
   "source": [
    "# Your answer\n",
    "filtered_sound = list(filter(is_ending_minus_sibilant, in_sound))\n",
    "filtered_sound_listcomp = [elem for elem in in_sound if is_ending_minus_sibilant(elem)]\n",
    "print(f\"\"\"with filter()\n",
    "{filtered_sound}\"\"\")\n",
    "print(f\"\"\"with list comprehension\n",
    "{filtered_sound_listcomp}\"\"\")"
   ]
  },
  {
   "cell_type": "markdown",
   "metadata": {},
   "source": [
    "## Fun with recursion"
   ]
  },
  {
   "cell_type": "markdown",
   "metadata": {},
   "source": [
    "#### Recursion and primes, naïve approach"
   ]
  },
  {
   "cell_type": "markdown",
   "metadata": {},
   "source": [
    "*Write a recursive function that tests for prime numbers by checking all divisors. A non-recursive example is shown below:*"
   ]
  },
  {
   "cell_type": "code",
   "execution_count": 80,
   "metadata": {},
   "outputs": [
    {
     "data": {
      "text/plain": [
       "True"
      ]
     },
     "execution_count": 80,
     "metadata": {},
     "output_type": "execute_result"
    }
   ],
   "source": [
    "# Non-recursive example:\n",
    "def is_number_prime(number): \n",
    "    if number < 2: \n",
    "        return False\n",
    "    for divisor in range(2, number): \n",
    "        if number % divisor == 0: \n",
    "            return False\n",
    "    return True\n",
    "is_number_prime(2)"
   ]
  },
  {
   "cell_type": "code",
   "execution_count": 86,
   "metadata": {},
   "outputs": [
    {
     "data": {
      "text/plain": [
       "True"
      ]
     },
     "execution_count": 86,
     "metadata": {},
     "output_type": "execute_result"
    }
   ],
   "source": [
    "# Your answer\n",
    "def is_number_prime(number, divisor=None):\n",
    "    # Deal with divisor\n",
    "    if not divisor:\n",
    "        divisor = number -1\n",
    "\n",
    "    if divisor <1:\n",
    "        return False\n",
    "    elif divisor == 1:\n",
    "        return True\n",
    "    \n",
    "    # Deal with dividend\n",
    "    if number % divisor == 0:\n",
    "        return False\n",
    "    else:\n",
    "        return is_number_prime(number, divisor-1)\n",
    "is_number_prime(2)"
   ]
  },
  {
   "cell_type": "code",
   "execution_count": 95,
   "metadata": {},
   "outputs": [],
   "source": [
    "# Tests\n",
    "assert is_number_prime(2) == True\n",
    "assert is_number_prime(4) == False\n",
    "assert is_number_prime(7) == True\n",
    "assert is_number_prime(13) == True\n",
    "assert is_number_prime(29) == True\n",
    "assert is_number_prime(53) == True\n",
    "assert is_number_prime(54) == False\n",
    "# There are exactly 168 prime numbers between 0 and 1,000. Test:\n",
    "assert sum([1 for i in range(1,1000) if is_number_prime(i)]) == 168"
   ]
  },
  {
   "cell_type": "code",
   "execution_count": 97,
   "metadata": {},
   "outputs": [
    {
     "name": "stdout",
     "output_type": "stream",
     "text": [
      "Your function took this much time:  0.08713793754577637\n"
     ]
    }
   ],
   "source": [
    "# Driver function \n",
    "import time\n",
    "t0 = time.time()\n",
    "for num in range(1,1000): \n",
    "    is_number_prime(num) \n",
    "t1 = time.time() \n",
    "print(\"Your function took: \", t1 - t0,\"/s\")"
   ]
  },
  {
   "cell_type": "code",
   "execution_count": 105,
   "metadata": {},
   "outputs": [
    {
     "name": "stdout",
     "output_type": "stream",
     "text": [
      "Pass from 1-1,000:\n",
      " [2, 3, 5, 7, 11, 13, 17, 19, 23, 29, 31, 37, 41, 43, 47, 53, 59, 61, 67, 71, 73, 79, 83, 89, 97, 101, 103, 107, 109, 113, 127, 131, 137, 139, 149, 151, 157, 163, 167, 173, 179, 181, 191, 193, 197, 199, 211, 223, 227, 229, 233, 239, 241, 251, 257, 263, 269, 271, 277, 281, 283, 293, 307, 311, 313, 317, 331, 337, 347, 349, 353, 359, 367, 373, 379, 383, 389, 397, 401, 409, 419, 421, 431, 433, 439, 443, 449, 457, 461, 463, 467, 479, 487, 491, 499, 503, 509, 521, 523, 541, 547, 557, 563, 569, 571, 577, 587, 593, 599, 601, 607, 613, 617, 619, 631, 641, 643, 647, 653, 659, 661, 673, 677, 683, 691, 701, 709, 719, 727, 733, 739, 743, 751, 757, 761, 769, 773, 787, 797, 809, 811, 821, 823, 827, 829, 839, 853, 857, 859, 863, 877, 881, 883, 887, 907, 911, 919, 929, 937, 941, 947, 953, 967, 971, 977, 983, 991, 997]\n"
     ]
    }
   ],
   "source": [
    "# Inspect primes\n",
    "primes = [prime for prime in range(1,1000) if is_number_prime(prime)]\n",
    "print(\"Pass from 1-1,000:\\n\", primes) \n"
   ]
  },
  {
   "cell_type": "markdown",
   "metadata": {},
   "source": [
    "#### Recursion and primes, discard pair values"
   ]
  },
  {
   "cell_type": "markdown",
   "metadata": {},
   "source": [
    "*Write a recursive function that tests for prime numbers by discarding all pairs first*\n"
   ]
  },
  {
   "cell_type": "code",
   "execution_count": 106,
   "metadata": {},
   "outputs": [
    {
     "data": {
      "text/plain": [
       "True"
      ]
     },
     "execution_count": 106,
     "metadata": {},
     "output_type": "execute_result"
    }
   ],
   "source": [
    "# Your answer\n",
    "def is_number_prime(dividend, divisor=None):\n",
    "    if not divisor:\n",
    "        divisor = dividend -1\n",
    "    \n",
    "    # Deal with divisor\n",
    "    if divisor == 1:\n",
    "        return True\n",
    "    if divisor < 1:\n",
    "        return False\n",
    "    \n",
    "    # Deal with dividend\n",
    "    if dividend % 2 == 0:\n",
    "        return False\n",
    "    elif dividend % divisor == 0:\n",
    "        return False\n",
    "    else:\n",
    "        return is_number_prime(dividend, divisor-1)\n",
    "is_number_prime(2)"
   ]
  },
  {
   "cell_type": "code",
   "execution_count": 107,
   "metadata": {},
   "outputs": [],
   "source": [
    "# Tests\n",
    "assert is_number_prime(2) == True\n",
    "assert is_number_prime(4) == False\n",
    "assert is_number_prime(7) == True\n",
    "assert is_number_prime(13) == True\n",
    "assert is_number_prime(29) == True\n",
    "assert is_number_prime(53) == True\n",
    "assert is_number_prime(54) == False\n",
    "# There are exactly 168 prime numbers between 0 and 1,000. Test:\n",
    "assert sum([1 for i in range(1,1000) if is_number_prime(i)]) == 168"
   ]
  },
  {
   "cell_type": "code",
   "execution_count": 109,
   "metadata": {},
   "outputs": [
    {
     "name": "stdout",
     "output_type": "stream",
     "text": [
      "Your function took this much time:  0.06071329116821289\n"
     ]
    }
   ],
   "source": [
    "# Driver function \n",
    "import time\n",
    "t0 = time.time()\n",
    "for num in range(1,1000): \n",
    "    is_number_prime(num) \n",
    "t1 = time.time() \n",
    "print(\"Your function took: \", t1 - t0,\"/s\")"
   ]
  },
  {
   "cell_type": "code",
   "execution_count": 110,
   "metadata": {},
   "outputs": [
    {
     "name": "stdout",
     "output_type": "stream",
     "text": [
      "Pass from 1-1,000:\n",
      " [2, 3, 5, 7, 11, 13, 17, 19, 23, 29, 31, 37, 41, 43, 47, 53, 59, 61, 67, 71, 73, 79, 83, 89, 97, 101, 103, 107, 109, 113, 127, 131, 137, 139, 149, 151, 157, 163, 167, 173, 179, 181, 191, 193, 197, 199, 211, 223, 227, 229, 233, 239, 241, 251, 257, 263, 269, 271, 277, 281, 283, 293, 307, 311, 313, 317, 331, 337, 347, 349, 353, 359, 367, 373, 379, 383, 389, 397, 401, 409, 419, 421, 431, 433, 439, 443, 449, 457, 461, 463, 467, 479, 487, 491, 499, 503, 509, 521, 523, 541, 547, 557, 563, 569, 571, 577, 587, 593, 599, 601, 607, 613, 617, 619, 631, 641, 643, 647, 653, 659, 661, 673, 677, 683, 691, 701, 709, 719, 727, 733, 739, 743, 751, 757, 761, 769, 773, 787, 797, 809, 811, 821, 823, 827, 829, 839, 853, 857, 859, 863, 877, 881, 883, 887, 907, 911, 919, 929, 937, 941, 947, 953, 967, 971, 977, 983, 991, 997]\n"
     ]
    }
   ],
   "source": [
    "# Inspect primes\n",
    "primes = [prime for prime in range(1,1000) if is_number_prime(prime)]\n",
    "print(\"Pass from 1-1,000:\\n\", primes) "
   ]
  },
  {
   "cell_type": "markdown",
   "metadata": {},
   "source": [
    "#### Primes, split and conquer"
   ]
  },
  {
   "cell_type": "markdown",
   "metadata": {},
   "source": [
    "Write a function that deals with both the divisor and dividend, then test with the following basic function:\n",
    "```\n",
    "def is_number_prime(number): \n",
    "    if number < 2: \n",
    "        return False\n",
    "    for divisor in range(2, number): \n",
    "        if number % divisor == 0: \n",
    "            return False\n",
    "    return True\n",
    "```"
   ]
  },
  {
   "cell_type": "code",
   "execution_count": 122,
   "metadata": {},
   "outputs": [],
   "source": [
    "# Your answer\n",
    "def is_number_prime(number): \n",
    "    # Deal with dividend\n",
    "    if number < 2: \n",
    "        return False\n",
    "    elif number == 2:\n",
    "        return True\n",
    "    elif number % 2 == 0:\n",
    "        return False\n",
    "\n",
    "    # Deal with divisor\n",
    "    import math\n",
    "    divisors = iter(range(3,1 + math.floor(math.sqrt(number)),2))\n",
    "    for divisor in divisors: \n",
    "        if number % divisor == 0: \n",
    "            return False\n",
    "    return True"
   ]
  },
  {
   "cell_type": "code",
   "execution_count": 123,
   "metadata": {},
   "outputs": [],
   "source": [
    "# Tests\n",
    "assert is_number_prime(2) == True\n",
    "assert is_number_prime(4) == False\n",
    "assert is_number_prime(7) == True\n",
    "assert is_number_prime(13) == True\n",
    "assert is_number_prime(29) == True\n",
    "assert is_number_prime(53) == True\n",
    "assert is_number_prime(54) == False\n",
    "# There are exactly 168 prime numbers between 0 and 1,000. Test:\n",
    "assert sum([1 for i in range(1,1000) if is_number_prime(i)]) == 168"
   ]
  },
  {
   "cell_type": "code",
   "execution_count": 124,
   "metadata": {},
   "outputs": [
    {
     "name": "stdout",
     "output_type": "stream",
     "text": [
      "Your function took this much time:  0.0008301734924316406\n"
     ]
    }
   ],
   "source": [
    "# Driver function \n",
    "import time\n",
    "t0 = time.time()\n",
    "for num in range(1,1000): \n",
    "    is_number_prime(num) \n",
    "t1 = time.time() \n",
    "print(\"Your function took: \", t1 - t0,\"/s\")"
   ]
  },
  {
   "cell_type": "code",
   "execution_count": 125,
   "metadata": {},
   "outputs": [],
   "source": [
    "# Test function\n",
    "def test_number_prime(number): \n",
    "    if number < 2: \n",
    "        return False\n",
    "    for divisor in range(2, number): \n",
    "        if number % divisor == 0: \n",
    "            return False\n",
    "    return True\n"
   ]
  },
  {
   "cell_type": "markdown",
   "metadata": {},
   "source": [
    "*Test it with ```range(1,10000)```*"
   ]
  },
  {
   "cell_type": "code",
   "execution_count": 126,
   "metadata": {},
   "outputs": [
    {
     "name": "stdout",
     "output_type": "stream",
     "text": [
      "Your test without generators took: 29.553317070007324\n"
     ]
    }
   ],
   "source": [
    "# Test\n",
    "# Use generators for memory efficiency\n",
    "import time\n",
    "\n",
    "\n",
    "# t0 = time.time()\n",
    "# primes = (number for number in range(1,100000) if is_number_prime(number))\n",
    "# test_primes = (number for number in range(1,100000) if test_number_prime(number))\n",
    "# for prime in primes:\n",
    "#     assert prime == next(test_primes)\n",
    "# t1 = time.time() \n",
    "# # print(f\"Your test with generators took {t1 - t0}/s\")\n",
    "# print(f\"Your test with generators took:\", t1 - t0)\n",
    "\n",
    "\n",
    "t0 = time.time()\n",
    "primes = [number for number in range(1,100000) if is_number_prime(number)]\n",
    "test_primes = [number for number in range(1,100000) if test_number_prime(number)]\n",
    "\n",
    "for index, prime in enumerate(primes):\n",
    "    assert prime == test_primes[index]\n",
    "t1 = time.time() \n",
    "# print(f\"Your test without generators took {t1 - t0}/s\")\n",
    "print(f\"Your test without generators took:\", t1 - t0)"
   ]
  },
  {
   "cell_type": "code",
   "execution_count": null,
   "metadata": {},
   "outputs": [],
   "source": []
  }
 ],
 "metadata": {
  "kernelspec": {
   "display_name": "Python 3",
   "language": "python",
   "name": "python3"
  },
  "language_info": {
   "codemirror_mode": {
    "name": "ipython",
    "version": 3
   },
   "file_extension": ".py",
   "mimetype": "text/x-python",
   "name": "python",
   "nbconvert_exporter": "python",
   "pygments_lexer": "ipython3",
   "version": "3.8.1"
  }
 },
 "nbformat": 4,
 "nbformat_minor": 4
}
